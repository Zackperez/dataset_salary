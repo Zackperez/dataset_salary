{
 "cells": [
  {
   "cell_type": "code",
   "execution_count": 3,
   "metadata": {},
   "outputs": [],
   "source": [
    "import pandas as pd\n",
    "import matplotlib.pyplot as plt\n",
    "import seaborn as sns "
   ]
  },
  {
   "cell_type": "code",
   "execution_count": 4,
   "metadata": {},
   "outputs": [],
   "source": [
    "data = pd.read_csv('Salary_Data.csv')\n",
    "pd.set_option('display.max_rows', None)"
   ]
  },
  {
   "cell_type": "code",
   "execution_count": 5,
   "metadata": {},
   "outputs": [
    {
     "data": {
      "text/plain": [
       "(6704, 6)"
      ]
     },
     "execution_count": 5,
     "metadata": {},
     "output_type": "execute_result"
    }
   ],
   "source": [
    "data.shape"
   ]
  },
  {
   "cell_type": "code",
   "execution_count": 6,
   "metadata": {},
   "outputs": [
    {
     "name": "stdout",
     "output_type": "stream",
     "text": [
      "<class 'pandas.core.frame.DataFrame'>\n",
      "RangeIndex: 6704 entries, 0 to 6703\n",
      "Data columns (total 6 columns):\n",
      " #   Column               Non-Null Count  Dtype  \n",
      "---  ------               --------------  -----  \n",
      " 0   Age                  6702 non-null   float64\n",
      " 1   Gender               6702 non-null   object \n",
      " 2   Education Level      6701 non-null   object \n",
      " 3   Job Title            6702 non-null   object \n",
      " 4   Years of Experience  6701 non-null   float64\n",
      " 5   Salary               6699 non-null   float64\n",
      "dtypes: float64(3), object(3)\n",
      "memory usage: 314.4+ KB\n"
     ]
    }
   ],
   "source": [
    "data.info()"
   ]
  },
  {
   "cell_type": "code",
   "execution_count": 7,
   "metadata": {},
   "outputs": [
    {
     "name": "stdout",
     "output_type": "stream",
     "text": [
      "Columna Gender: ['Male' 'Female' nan 'Other'] subniveles\n",
      "\n",
      "Columna Education Level: [\"Bachelor's\" \"Master's\" 'PhD' nan \"Bachelor's Degree\" \"Master's Degree\"\n",
      " 'High School' 'phD'] subniveles\n",
      "\n",
      "Columna Job Title: ['Software Engineer' 'Data Analyst' 'Senior Manager' 'Sales Associate'\n",
      " 'Director' 'Marketing Analyst' 'Product Manager' 'Sales Manager'\n",
      " 'Marketing Coordinator' 'Senior Scientist' 'Software Developer'\n",
      " 'HR Manager' 'Financial Analyst' 'Project Manager' 'Customer Service Rep'\n",
      " 'Operations Manager' 'Marketing Manager' 'Senior Engineer'\n",
      " 'Data Entry Clerk' 'Sales Director' 'Business Analyst' 'VP of Operations'\n",
      " 'IT Support' 'Recruiter' 'Financial Manager' 'Social Media Specialist'\n",
      " 'Software Manager' 'Junior Developer' 'Senior Consultant'\n",
      " 'Product Designer' 'CEO' 'Accountant' 'Data Scientist'\n",
      " 'Marketing Specialist' 'Technical Writer' 'HR Generalist'\n",
      " 'Project Engineer' 'Customer Success Rep' 'Sales Executive' 'UX Designer'\n",
      " 'Operations Director' 'Network Engineer' 'Administrative Assistant'\n",
      " 'Strategy Consultant' 'Copywriter' 'Account Manager'\n",
      " 'Director of Marketing' 'Help Desk Analyst' 'Customer Service Manager'\n",
      " 'Business Intelligence Analyst' 'Event Coordinator' 'VP of Finance'\n",
      " 'Graphic Designer' 'UX Researcher' 'Social Media Manager'\n",
      " 'Director of Operations' 'Senior Data Scientist' 'Junior Accountant'\n",
      " 'Digital Marketing Manager' 'IT Manager'\n",
      " 'Customer Service Representative' 'Business Development Manager'\n",
      " 'Senior Financial Analyst' 'Web Developer' 'Research Director'\n",
      " 'Technical Support Specialist' 'Creative Director'\n",
      " 'Senior Software Engineer' 'Human Resources Director'\n",
      " 'Content Marketing Manager' 'Technical Recruiter' 'Sales Representative'\n",
      " 'Chief Technology Officer' 'Junior Designer' 'Financial Advisor'\n",
      " 'Junior Account Manager' 'Senior Project Manager' 'Principal Scientist'\n",
      " 'Supply Chain Manager' 'Senior Marketing Manager' 'Training Specialist'\n",
      " 'Research Scientist' 'Junior Software Developer'\n",
      " 'Public Relations Manager' 'Operations Analyst'\n",
      " 'Product Marketing Manager' 'Senior HR Manager' 'Junior Web Developer'\n",
      " 'Senior Project Coordinator' 'Chief Data Officer'\n",
      " 'Digital Content Producer' 'IT Support Specialist'\n",
      " 'Senior Marketing Analyst' 'Customer Success Manager'\n",
      " 'Senior Graphic Designer' 'Software Project Manager'\n",
      " 'Supply Chain Analyst' 'Senior Business Analyst'\n",
      " 'Junior Marketing Analyst' 'Office Manager' 'Principal Engineer'\n",
      " 'Junior HR Generalist' 'Senior Product Manager'\n",
      " 'Junior Operations Analyst' 'Senior HR Generalist'\n",
      " 'Sales Operations Manager' 'Senior Software Developer'\n",
      " 'Junior Web Designer' 'Senior Training Specialist'\n",
      " 'Senior Research Scientist' 'Junior Sales Representative'\n",
      " 'Junior Marketing Manager' 'Junior Data Analyst'\n",
      " 'Senior Product Marketing Manager' 'Junior Business Analyst'\n",
      " 'Senior Sales Manager' 'Junior Marketing Specialist'\n",
      " 'Junior Project Manager' 'Senior Accountant' 'Director of Sales'\n",
      " 'Junior Recruiter' 'Senior Business Development Manager'\n",
      " 'Senior Product Designer' 'Junior Customer Support Specialist'\n",
      " 'Senior IT Support Specialist' 'Junior Financial Analyst'\n",
      " 'Senior Operations Manager' 'Director of Human Resources'\n",
      " 'Junior Software Engineer' 'Senior Sales Representative'\n",
      " 'Director of Product Management' 'Junior Copywriter'\n",
      " 'Senior Marketing Coordinator' 'Senior Human Resources Manager'\n",
      " 'Junior Business Development Associate' 'Senior Account Manager'\n",
      " 'Senior Researcher' 'Junior HR Coordinator' 'Director of Finance'\n",
      " 'Junior Marketing Coordinator' nan 'Junior Data Scientist'\n",
      " 'Senior Operations Analyst' 'Senior Human Resources Coordinator'\n",
      " 'Senior UX Designer' 'Junior Product Manager'\n",
      " 'Senior Marketing Specialist' 'Senior IT Project Manager'\n",
      " 'Senior Quality Assurance Analyst' 'Director of Sales and Marketing'\n",
      " 'Senior Account Executive' 'Director of Business Development'\n",
      " 'Junior Social Media Manager' 'Senior Human Resources Specialist'\n",
      " 'Senior Data Analyst' 'Director of Human Capital'\n",
      " 'Junior Advertising Coordinator' 'Junior UX Designer'\n",
      " 'Senior Marketing Director' 'Senior IT Consultant'\n",
      " 'Senior Financial Advisor' 'Junior Business Operations Analyst'\n",
      " 'Junior Social Media Specialist' 'Senior Product Development Manager'\n",
      " 'Junior Operations Manager' 'Senior Software Architect'\n",
      " 'Junior Research Scientist' 'Senior Financial Manager'\n",
      " 'Senior HR Specialist' 'Senior Data Engineer'\n",
      " 'Junior Operations Coordinator' 'Director of HR'\n",
      " 'Senior Operations Coordinator' 'Junior Financial Advisor'\n",
      " 'Director of Engineering' 'Software Engineer Manager'\n",
      " 'Back end Developer' 'Senior Project Engineer' 'Full Stack Engineer'\n",
      " 'Front end Developer' 'Developer' 'Front End Developer'\n",
      " 'Director of Data Science' 'Human Resources Coordinator'\n",
      " 'Junior Sales Associate' 'Human Resources Manager'\n",
      " 'Juniour HR Generalist' 'Juniour HR Coordinator'\n",
      " 'Digital Marketing Specialist' 'Receptionist' 'Marketing Director'\n",
      " 'Social M' 'Social Media Man' 'Delivery Driver'] subniveles\n",
      "\n"
     ]
    }
   ],
   "source": [
    "# Conteo de los niveles en las diferentes columnas categóricas\n",
    "cols_cat = ['Gender', 'Education Level', 'Job Title']\n",
    "\n",
    "for col in cols_cat:\n",
    "  print(f'Columna {col}: {data[col].unique()} subniveles\\n')"
   ]
  },
  {
   "cell_type": "code",
   "execution_count": 8,
   "metadata": {},
   "outputs": [
    {
     "name": "stdout",
     "output_type": "stream",
     "text": [
      "Columna Gender: 3 subniveles\n",
      "\n",
      "Columna Education Level: 7 subniveles\n",
      "\n",
      "Columna Job Title: 193 subniveles\n",
      "\n"
     ]
    }
   ],
   "source": [
    "for col in cols_cat:\n",
    "  print(f'Columna {col}: {data[col].nunique()} subniveles\\n')"
   ]
  },
  {
   "cell_type": "markdown",
   "metadata": {},
   "source": [
    "# Etapa 1 - Datos faltantes"
   ]
  },
  {
   "cell_type": "code",
   "execution_count": 9,
   "metadata": {},
   "outputs": [
    {
     "data": {
      "text/plain": [
       "Age                    2\n",
       "Gender                 2\n",
       "Education Level        3\n",
       "Job Title              2\n",
       "Years of Experience    3\n",
       "Salary                 5\n",
       "dtype: int64"
      ]
     },
     "execution_count": 9,
     "metadata": {},
     "output_type": "execute_result"
    }
   ],
   "source": [
    "data.isnull().sum()"
   ]
  },
  {
   "cell_type": "code",
   "execution_count": 10,
   "metadata": {},
   "outputs": [
    {
     "name": "stdout",
     "output_type": "stream",
     "text": [
      "<class 'pandas.core.frame.DataFrame'>\n",
      "Index: 6698 entries, 0 to 6703\n",
      "Data columns (total 6 columns):\n",
      " #   Column               Non-Null Count  Dtype  \n",
      "---  ------               --------------  -----  \n",
      " 0   Age                  6698 non-null   float64\n",
      " 1   Gender               6698 non-null   object \n",
      " 2   Education Level      6698 non-null   object \n",
      " 3   Job Title            6698 non-null   object \n",
      " 4   Years of Experience  6698 non-null   float64\n",
      " 5   Salary               6698 non-null   float64\n",
      "dtypes: float64(3), object(3)\n",
      "memory usage: 366.3+ KB\n"
     ]
    }
   ],
   "source": [
    "data.dropna(inplace = True)\n",
    "data.info()"
   ]
  },
  {
   "cell_type": "markdown",
   "metadata": {},
   "source": [
    "# Etapa 2 - Columnas irrelevantes"
   ]
  },
  {
   "cell_type": "markdown",
   "metadata": {},
   "source": [
    "### Renombramiento de columnas"
   ]
  },
  {
   "cell_type": "code",
   "execution_count": 11,
   "metadata": {},
   "outputs": [
    {
     "data": {
      "text/plain": [
       "Index(['Age', 'Gender', 'Education_Level', 'Job_Title', 'Years_of_Experience',\n",
       "       'Salary'],\n",
       "      dtype='object')"
      ]
     },
     "execution_count": 11,
     "metadata": {},
     "output_type": "execute_result"
    }
   ],
   "source": [
    "data.rename(columns={'Education Level': 'Education_Level',\n",
    "                      'Job Title': 'Job_Title',\n",
    "                      'Years of Experience': 'Years_of_Experience'}, inplace= True)\n",
    "data.columns"
   ]
  },
  {
   "cell_type": "markdown",
   "metadata": {},
   "source": [
    "### Transformación de valores a minúscula"
   ]
  },
  {
   "cell_type": "code",
   "execution_count": 12,
   "metadata": {},
   "outputs": [
    {
     "data": {
      "text/html": [
       "<div>\n",
       "<style scoped>\n",
       "    .dataframe tbody tr th:only-of-type {\n",
       "        vertical-align: middle;\n",
       "    }\n",
       "\n",
       "    .dataframe tbody tr th {\n",
       "        vertical-align: top;\n",
       "    }\n",
       "\n",
       "    .dataframe thead th {\n",
       "        text-align: right;\n",
       "    }\n",
       "</style>\n",
       "<table border=\"1\" class=\"dataframe\">\n",
       "  <thead>\n",
       "    <tr style=\"text-align: right;\">\n",
       "      <th></th>\n",
       "      <th>Age</th>\n",
       "      <th>Gender</th>\n",
       "      <th>Education_Level</th>\n",
       "      <th>Job_Title</th>\n",
       "      <th>Years_of_Experience</th>\n",
       "      <th>Salary</th>\n",
       "    </tr>\n",
       "  </thead>\n",
       "  <tbody>\n",
       "    <tr>\n",
       "      <th>0</th>\n",
       "      <td>32.0</td>\n",
       "      <td>male</td>\n",
       "      <td>bachelor's</td>\n",
       "      <td>software engineer</td>\n",
       "      <td>5.0</td>\n",
       "      <td>90000.0</td>\n",
       "    </tr>\n",
       "    <tr>\n",
       "      <th>1</th>\n",
       "      <td>28.0</td>\n",
       "      <td>female</td>\n",
       "      <td>master's</td>\n",
       "      <td>data analyst</td>\n",
       "      <td>3.0</td>\n",
       "      <td>65000.0</td>\n",
       "    </tr>\n",
       "    <tr>\n",
       "      <th>2</th>\n",
       "      <td>45.0</td>\n",
       "      <td>male</td>\n",
       "      <td>phd</td>\n",
       "      <td>senior manager</td>\n",
       "      <td>15.0</td>\n",
       "      <td>150000.0</td>\n",
       "    </tr>\n",
       "    <tr>\n",
       "      <th>3</th>\n",
       "      <td>36.0</td>\n",
       "      <td>female</td>\n",
       "      <td>bachelor's</td>\n",
       "      <td>sales associate</td>\n",
       "      <td>7.0</td>\n",
       "      <td>60000.0</td>\n",
       "    </tr>\n",
       "    <tr>\n",
       "      <th>4</th>\n",
       "      <td>52.0</td>\n",
       "      <td>male</td>\n",
       "      <td>master's</td>\n",
       "      <td>director</td>\n",
       "      <td>20.0</td>\n",
       "      <td>200000.0</td>\n",
       "    </tr>\n",
       "  </tbody>\n",
       "</table>\n",
       "</div>"
      ],
      "text/plain": [
       "    Age  Gender Education_Level          Job_Title  Years_of_Experience  \\\n",
       "0  32.0    male      bachelor's  software engineer                  5.0   \n",
       "1  28.0  female        master's       data analyst                  3.0   \n",
       "2  45.0    male             phd     senior manager                 15.0   \n",
       "3  36.0  female      bachelor's    sales associate                  7.0   \n",
       "4  52.0    male        master's           director                 20.0   \n",
       "\n",
       "     Salary  \n",
       "0   90000.0  \n",
       "1   65000.0  \n",
       "2  150000.0  \n",
       "3   60000.0  \n",
       "4  200000.0  "
      ]
     },
     "execution_count": 12,
     "metadata": {},
     "output_type": "execute_result"
    }
   ],
   "source": [
    "columnas_categoricas = ['Gender', 'Education_Level', \"Job_Title\"]\n",
    "\n",
    "#Se transforman en minúscula\n",
    "for column in data.columns:\n",
    "    # Representar en minúsculas sólo si la columna es categórica\n",
    "    if column in columnas_categoricas:\n",
    "        data[column] = data[column].str.lower()\n",
    "\n",
    "data.head()\n",
    "\n"
   ]
  },
  {
   "cell_type": "code",
   "execution_count": 13,
   "metadata": {},
   "outputs": [],
   "source": [
    "# Conteo de los niveles en las diferentes columnas categóricas\n",
    "cols_cat = ['Gender', 'Education_Level', 'Job_Title']"
   ]
  },
  {
   "cell_type": "code",
   "execution_count": 14,
   "metadata": {},
   "outputs": [
    {
     "name": "stdout",
     "output_type": "stream",
     "text": [
      "Columna Gender: ['male' 'female' 'other'] subniveles\n",
      "\n",
      "Columna Education_Level: [\"bachelor's\" \"master's\" 'phd' \"bachelor's degree\" \"master's degree\"\n",
      " 'high school'] subniveles\n",
      "\n",
      "Columna Job_Title: ['software engineer' 'data analyst' 'senior manager' 'sales associate'\n",
      " 'director' 'marketing analyst' 'product manager' 'sales manager'\n",
      " 'marketing coordinator' 'senior scientist' 'software developer'\n",
      " 'hr manager' 'financial analyst' 'project manager' 'customer service rep'\n",
      " 'operations manager' 'marketing manager' 'senior engineer'\n",
      " 'data entry clerk' 'sales director' 'business analyst' 'vp of operations'\n",
      " 'it support' 'recruiter' 'financial manager' 'social media specialist'\n",
      " 'software manager' 'junior developer' 'senior consultant'\n",
      " 'product designer' 'ceo' 'accountant' 'data scientist'\n",
      " 'marketing specialist' 'technical writer' 'hr generalist'\n",
      " 'project engineer' 'customer success rep' 'sales executive' 'ux designer'\n",
      " 'operations director' 'network engineer' 'administrative assistant'\n",
      " 'strategy consultant' 'copywriter' 'account manager'\n",
      " 'director of marketing' 'help desk analyst' 'customer service manager'\n",
      " 'business intelligence analyst' 'event coordinator' 'vp of finance'\n",
      " 'graphic designer' 'ux researcher' 'social media manager'\n",
      " 'director of operations' 'senior data scientist' 'junior accountant'\n",
      " 'digital marketing manager' 'it manager'\n",
      " 'customer service representative' 'business development manager'\n",
      " 'senior financial analyst' 'web developer' 'research director'\n",
      " 'technical support specialist' 'creative director'\n",
      " 'senior software engineer' 'human resources director'\n",
      " 'content marketing manager' 'technical recruiter' 'sales representative'\n",
      " 'chief technology officer' 'junior designer' 'financial advisor'\n",
      " 'junior account manager' 'senior project manager' 'principal scientist'\n",
      " 'supply chain manager' 'senior marketing manager' 'training specialist'\n",
      " 'research scientist' 'junior software developer'\n",
      " 'public relations manager' 'operations analyst'\n",
      " 'product marketing manager' 'senior hr manager' 'junior web developer'\n",
      " 'senior project coordinator' 'chief data officer'\n",
      " 'digital content producer' 'it support specialist'\n",
      " 'senior marketing analyst' 'customer success manager'\n",
      " 'senior graphic designer' 'software project manager'\n",
      " 'supply chain analyst' 'senior business analyst'\n",
      " 'junior marketing analyst' 'office manager' 'principal engineer'\n",
      " 'junior hr generalist' 'senior product manager'\n",
      " 'junior operations analyst' 'senior hr generalist'\n",
      " 'sales operations manager' 'senior software developer'\n",
      " 'junior web designer' 'senior training specialist'\n",
      " 'senior research scientist' 'junior sales representative'\n",
      " 'junior marketing manager' 'junior data analyst'\n",
      " 'senior product marketing manager' 'junior business analyst'\n",
      " 'senior sales manager' 'junior marketing specialist'\n",
      " 'junior project manager' 'senior accountant' 'director of sales'\n",
      " 'junior recruiter' 'senior business development manager'\n",
      " 'senior product designer' 'junior customer support specialist'\n",
      " 'senior it support specialist' 'junior financial analyst'\n",
      " 'senior operations manager' 'director of human resources'\n",
      " 'junior software engineer' 'senior sales representative'\n",
      " 'director of product management' 'junior copywriter'\n",
      " 'senior marketing coordinator' 'senior human resources manager'\n",
      " 'junior business development associate' 'senior account manager'\n",
      " 'senior researcher' 'junior hr coordinator' 'director of finance'\n",
      " 'junior marketing coordinator' 'junior data scientist'\n",
      " 'senior operations analyst' 'senior human resources coordinator'\n",
      " 'senior ux designer' 'junior product manager'\n",
      " 'senior marketing specialist' 'senior it project manager'\n",
      " 'senior quality assurance analyst' 'director of sales and marketing'\n",
      " 'senior account executive' 'director of business development'\n",
      " 'junior social media manager' 'senior human resources specialist'\n",
      " 'senior data analyst' 'director of human capital'\n",
      " 'junior advertising coordinator' 'junior ux designer'\n",
      " 'senior marketing director' 'senior it consultant'\n",
      " 'senior financial advisor' 'junior business operations analyst'\n",
      " 'junior social media specialist' 'senior product development manager'\n",
      " 'junior operations manager' 'senior software architect'\n",
      " 'junior research scientist' 'senior financial manager'\n",
      " 'senior hr specialist' 'senior data engineer'\n",
      " 'junior operations coordinator' 'director of hr'\n",
      " 'senior operations coordinator' 'junior financial advisor'\n",
      " 'director of engineering' 'software engineer manager'\n",
      " 'back end developer' 'senior project engineer' 'full stack engineer'\n",
      " 'front end developer' 'director of data science'\n",
      " 'human resources coordinator' 'junior sales associate'\n",
      " 'human resources manager' 'juniour hr generalist'\n",
      " 'juniour hr coordinator' 'digital marketing specialist' 'receptionist'\n",
      " 'marketing director' 'social media man' 'delivery driver'] subniveles\n",
      "\n"
     ]
    }
   ],
   "source": [
    "for col in cols_cat:\n",
    "  print(f'Columna {col}: {data[col].unique()} subniveles\\n')\n"
   ]
  },
  {
   "cell_type": "code",
   "execution_count": 15,
   "metadata": {},
   "outputs": [
    {
     "name": "stdout",
     "output_type": "stream",
     "text": [
      "Columna Gender: 3 subniveles\n",
      "\n",
      "Columna Education_Level: 6 subniveles\n",
      "\n",
      "Columna Job_Title: 190 subniveles\n",
      "\n"
     ]
    }
   ],
   "source": [
    "for col in cols_cat:\n",
    "  print(f'Columna {col}: {data[col].nunique()} subniveles\\n')"
   ]
  },
  {
   "cell_type": "markdown",
   "metadata": {},
   "source": [
    "### Columnas numéricas"
   ]
  },
  {
   "cell_type": "code",
   "execution_count": 16,
   "metadata": {},
   "outputs": [
    {
     "data": {
      "text/html": [
       "<div>\n",
       "<style scoped>\n",
       "    .dataframe tbody tr th:only-of-type {\n",
       "        vertical-align: middle;\n",
       "    }\n",
       "\n",
       "    .dataframe tbody tr th {\n",
       "        vertical-align: top;\n",
       "    }\n",
       "\n",
       "    .dataframe thead th {\n",
       "        text-align: right;\n",
       "    }\n",
       "</style>\n",
       "<table border=\"1\" class=\"dataframe\">\n",
       "  <thead>\n",
       "    <tr style=\"text-align: right;\">\n",
       "      <th></th>\n",
       "      <th>Age</th>\n",
       "      <th>Years_of_Experience</th>\n",
       "      <th>Salary</th>\n",
       "    </tr>\n",
       "  </thead>\n",
       "  <tbody>\n",
       "    <tr>\n",
       "      <th>count</th>\n",
       "      <td>6698.000000</td>\n",
       "      <td>6698.000000</td>\n",
       "      <td>6698.000000</td>\n",
       "    </tr>\n",
       "    <tr>\n",
       "      <th>mean</th>\n",
       "      <td>33.623022</td>\n",
       "      <td>8.095178</td>\n",
       "      <td>115329.253061</td>\n",
       "    </tr>\n",
       "    <tr>\n",
       "      <th>std</th>\n",
       "      <td>7.615784</td>\n",
       "      <td>6.060291</td>\n",
       "      <td>52789.792507</td>\n",
       "    </tr>\n",
       "    <tr>\n",
       "      <th>min</th>\n",
       "      <td>21.000000</td>\n",
       "      <td>0.000000</td>\n",
       "      <td>350.000000</td>\n",
       "    </tr>\n",
       "    <tr>\n",
       "      <th>25%</th>\n",
       "      <td>28.000000</td>\n",
       "      <td>3.000000</td>\n",
       "      <td>70000.000000</td>\n",
       "    </tr>\n",
       "    <tr>\n",
       "      <th>50%</th>\n",
       "      <td>32.000000</td>\n",
       "      <td>7.000000</td>\n",
       "      <td>115000.000000</td>\n",
       "    </tr>\n",
       "    <tr>\n",
       "      <th>75%</th>\n",
       "      <td>38.000000</td>\n",
       "      <td>12.000000</td>\n",
       "      <td>160000.000000</td>\n",
       "    </tr>\n",
       "    <tr>\n",
       "      <th>max</th>\n",
       "      <td>62.000000</td>\n",
       "      <td>34.000000</td>\n",
       "      <td>250000.000000</td>\n",
       "    </tr>\n",
       "  </tbody>\n",
       "</table>\n",
       "</div>"
      ],
      "text/plain": [
       "               Age  Years_of_Experience         Salary\n",
       "count  6698.000000          6698.000000    6698.000000\n",
       "mean     33.623022             8.095178  115329.253061\n",
       "std       7.615784             6.060291   52789.792507\n",
       "min      21.000000             0.000000     350.000000\n",
       "25%      28.000000             3.000000   70000.000000\n",
       "50%      32.000000             7.000000  115000.000000\n",
       "75%      38.000000            12.000000  160000.000000\n",
       "max      62.000000            34.000000  250000.000000"
      ]
     },
     "execution_count": 16,
     "metadata": {},
     "output_type": "execute_result"
    }
   ],
   "source": [
    "data.describe()"
   ]
  },
  {
   "cell_type": "markdown",
   "metadata": {},
   "source": [
    "### Valores de la columna Education_Level reducido/unidos"
   ]
  },
  {
   "cell_type": "code",
   "execution_count": 17,
   "metadata": {},
   "outputs": [
    {
     "data": {
      "text/plain": [
       "array([\"bachelor's\", \"master's\", 'phd', \"bachelor's degree\",\n",
       "       \"master's degree\", 'high school'], dtype=object)"
      ]
     },
     "execution_count": 17,
     "metadata": {},
     "output_type": "execute_result"
    }
   ],
   "source": [
    "data['Education_Level'].unique()"
   ]
  },
  {
   "cell_type": "code",
   "execution_count": 18,
   "metadata": {},
   "outputs": [
    {
     "data": {
      "text/plain": [
       "array([\"bachelor's\", \"master's\", 'phd', 'high school'], dtype=object)"
      ]
     },
     "execution_count": 18,
     "metadata": {},
     "output_type": "execute_result"
    }
   ],
   "source": [
    "# Define a dictionary to map current values to new standardized values\n",
    "education_map = {\n",
    "    \"bachelor's degree\": \"bachelor's\",\n",
    "    \"master's degree\": \"master's\",\n",
    "}\n",
    "\n",
    "# Use the map to replace the values\n",
    "data['Education_Level'] = data['Education_Level'].replace(education_map)\n",
    "\n",
    "data['Education_Level'].unique()"
   ]
  },
  {
   "cell_type": "markdown",
   "metadata": {},
   "source": [
    "### Reducción de valores en la columna de Job_Title"
   ]
  },
  {
   "cell_type": "markdown",
   "metadata": {},
   "source": [
    "#### Prueba 1"
   ]
  },
  {
   "cell_type": "code",
   "execution_count": 19,
   "metadata": {},
   "outputs": [],
   "source": [
    "#dataxd = data.copy()"
   ]
  },
  {
   "cell_type": "code",
   "execution_count": 20,
   "metadata": {},
   "outputs": [],
   "source": [
    "#dataxd.info()"
   ]
  },
  {
   "cell_type": "code",
   "execution_count": 21,
   "metadata": {},
   "outputs": [],
   "source": [
    "#dataxd['Job Title'].unique()"
   ]
  },
  {
   "cell_type": "code",
   "execution_count": 22,
   "metadata": {},
   "outputs": [],
   "source": [
    "#dataxd['Job_Title'].value_counts()"
   ]
  },
  {
   "cell_type": "code",
   "execution_count": 23,
   "metadata": {},
   "outputs": [],
   "source": [
    "#trabajos_clasificados = ['engineer','analyst','manager','director','coordinator','scientist','developer','costumer','consultant','designer','specialist','representative','copywriter','support','advisor']\n",
    "\n",
    "#data['Job_Classification'] = 'other'\n",
    "\n",
    "# Loop through classifications and assign them to 'Job Classification' where appropriate\n",
    "#for classification in trabajos_clasificados:\n",
    "#    data.loc[data['Job_Title'].str.contains(classification, case=False, na=False), 'Job_Classification'] = classification\n",
    "\n",
    "# Verify the changes\n",
    "\n",
    "#print(data['Job_Classification'].value_counts())"
   ]
  },
  {
   "cell_type": "markdown",
   "metadata": {},
   "source": [
    "#### Prueba 2"
   ]
  },
  {
   "cell_type": "code",
   "execution_count": 24,
   "metadata": {},
   "outputs": [
    {
     "data": {
      "text/plain": [
       "array(['software engineer', 'data analyst', 'senior manager',\n",
       "       'sales associate', 'director', 'marketing analyst',\n",
       "       'product manager', 'sales manager', 'marketing coordinator',\n",
       "       'senior scientist', 'software developer', 'hr manager',\n",
       "       'financial analyst', 'project manager', 'customer service rep',\n",
       "       'operations manager', 'marketing manager', 'senior engineer',\n",
       "       'data entry clerk', 'sales director', 'business analyst',\n",
       "       'vp of operations', 'it support', 'recruiter', 'financial manager',\n",
       "       'social media specialist', 'software manager', 'junior developer',\n",
       "       'senior consultant', 'product designer', 'ceo', 'accountant',\n",
       "       'data scientist', 'marketing specialist', 'technical writer',\n",
       "       'hr generalist', 'project engineer', 'customer success rep',\n",
       "       'sales executive', 'ux designer', 'operations director',\n",
       "       'network engineer', 'administrative assistant',\n",
       "       'strategy consultant', 'copywriter', 'account manager',\n",
       "       'director of marketing', 'help desk analyst',\n",
       "       'customer service manager', 'business intelligence analyst',\n",
       "       'event coordinator', 'vp of finance', 'graphic designer',\n",
       "       'ux researcher', 'social media manager', 'director of operations',\n",
       "       'senior data scientist', 'junior accountant',\n",
       "       'digital marketing manager', 'it manager',\n",
       "       'customer service representative', 'business development manager',\n",
       "       'senior financial analyst', 'web developer', 'research director',\n",
       "       'technical support specialist', 'creative director',\n",
       "       'senior software engineer', 'human resources director',\n",
       "       'content marketing manager', 'technical recruiter',\n",
       "       'sales representative', 'chief technology officer',\n",
       "       'junior designer', 'financial advisor', 'junior account manager',\n",
       "       'senior project manager', 'principal scientist',\n",
       "       'supply chain manager', 'senior marketing manager',\n",
       "       'training specialist', 'research scientist',\n",
       "       'junior software developer', 'public relations manager',\n",
       "       'operations analyst', 'product marketing manager',\n",
       "       'senior hr manager', 'junior web developer',\n",
       "       'senior project coordinator', 'chief data officer',\n",
       "       'digital content producer', 'it support specialist',\n",
       "       'senior marketing analyst', 'customer success manager',\n",
       "       'senior graphic designer', 'software project manager',\n",
       "       'supply chain analyst', 'senior business analyst',\n",
       "       'junior marketing analyst', 'office manager', 'principal engineer',\n",
       "       'junior hr generalist', 'senior product manager',\n",
       "       'junior operations analyst', 'senior hr generalist',\n",
       "       'sales operations manager', 'senior software developer',\n",
       "       'junior web designer', 'senior training specialist',\n",
       "       'senior research scientist', 'junior sales representative',\n",
       "       'junior marketing manager', 'junior data analyst',\n",
       "       'senior product marketing manager', 'junior business analyst',\n",
       "       'senior sales manager', 'junior marketing specialist',\n",
       "       'junior project manager', 'senior accountant', 'director of sales',\n",
       "       'junior recruiter', 'senior business development manager',\n",
       "       'senior product designer', 'junior customer support specialist',\n",
       "       'senior it support specialist', 'junior financial analyst',\n",
       "       'senior operations manager', 'director of human resources',\n",
       "       'junior software engineer', 'senior sales representative',\n",
       "       'director of product management', 'junior copywriter',\n",
       "       'senior marketing coordinator', 'senior human resources manager',\n",
       "       'junior business development associate', 'senior account manager',\n",
       "       'senior researcher', 'junior hr coordinator',\n",
       "       'director of finance', 'junior marketing coordinator',\n",
       "       'junior data scientist', 'senior operations analyst',\n",
       "       'senior human resources coordinator', 'senior ux designer',\n",
       "       'junior product manager', 'senior marketing specialist',\n",
       "       'senior it project manager', 'senior quality assurance analyst',\n",
       "       'director of sales and marketing', 'senior account executive',\n",
       "       'director of business development', 'junior social media manager',\n",
       "       'senior human resources specialist', 'senior data analyst',\n",
       "       'director of human capital', 'junior advertising coordinator',\n",
       "       'junior ux designer', 'senior marketing director',\n",
       "       'senior it consultant', 'senior financial advisor',\n",
       "       'junior business operations analyst',\n",
       "       'junior social media specialist',\n",
       "       'senior product development manager', 'junior operations manager',\n",
       "       'senior software architect', 'junior research scientist',\n",
       "       'senior financial manager', 'senior hr specialist',\n",
       "       'senior data engineer', 'junior operations coordinator',\n",
       "       'director of hr', 'senior operations coordinator',\n",
       "       'junior financial advisor', 'director of engineering',\n",
       "       'software engineer manager', 'back end developer',\n",
       "       'senior project engineer', 'full stack engineer',\n",
       "       'front end developer', 'director of data science',\n",
       "       'human resources coordinator', 'junior sales associate',\n",
       "       'human resources manager', 'juniour hr generalist',\n",
       "       'juniour hr coordinator', 'digital marketing specialist',\n",
       "       'receptionist', 'marketing director', 'social media man',\n",
       "       'delivery driver'], dtype=object)"
      ]
     },
     "execution_count": 24,
     "metadata": {},
     "output_type": "execute_result"
    }
   ],
   "source": [
    "data['Job_Title'].unique()"
   ]
  },
  {
   "cell_type": "code",
   "execution_count": 25,
   "metadata": {},
   "outputs": [
    {
     "name": "stdout",
     "output_type": "stream",
     "text": [
      "Job Classification\n",
      "Manager        1757\n",
      "Engineer       1448\n",
      "Developer       832\n",
      "Scientist       638\n",
      "Analyst         622\n",
      "Director        437\n",
      "Associate       219\n",
      "Coordinator     212\n",
      "Designer        110\n",
      "Generalist      107\n",
      "Executive        99\n",
      "Rep              89\n",
      "Other            65\n",
      "Specialist       34\n",
      "Accountant        6\n",
      "Advisor           5\n",
      "Recruiter         4\n",
      "Consultant        4\n",
      "Copywriter        2\n",
      "Researcher        2\n",
      "Officer           2\n",
      "Writer            1\n",
      "Support           1\n",
      "Clerk             1\n",
      "Producer          1\n",
      "Name: count, dtype: int64\n"
     ]
    }
   ],
   "source": [
    "# Define a list of classifications\n",
    "classifications = ['Engineer', 'Analyst', 'Associate', 'Director', \n",
    "                   'Coordinator', 'Scientist', 'Developer', 'Representative',\n",
    "                   'Clerk', 'Rep', 'Support', 'Specialist', 'Consultant', \n",
    "                   'Designer', 'Writer', 'Generalist', 'Researcher', \n",
    "                   'Accountant', 'Recruiter', 'Officer', 'Advisor', \n",
    "                   'Producer', 'Copywriter']  # 'Manager' removed\n",
    "\n",
    "# Create a new column 'Job Classification' initialized with 'Other'\n",
    "data['Job Classification'] = 'Other'\n",
    "\n",
    "# Loop through classifications and assign them to 'Job Classification' where appropriate\n",
    "for classification in classifications:\n",
    "    data.loc[data['Job_Title'].str.contains(classification, case=False, na=False), 'Job Classification'] = classification\n",
    "\n",
    "# Titles like 'CEO', 'VP', 'Executive', and 'Man' to be classified as 'Executive'\n",
    "executives = ['CEO', 'VP', 'Executive', 'Man']\n",
    "for executive in executives:\n",
    "    data.loc[data['Job_Title'].str.contains(executive, case=False, na=False), 'Job Classification'] = 'Executive' \n",
    "\n",
    "# Classify 'Manager'\n",
    "data.loc[data['Job_Title'].str.contains('Manager', case=False, na=False), 'Job Classification'] = 'Manager'\n",
    "\n",
    "# Verify the changes\n",
    "print(data['Job Classification'].value_counts())"
   ]
  },
  {
   "cell_type": "code",
   "execution_count": 26,
   "metadata": {},
   "outputs": [
    {
     "name": "stdout",
     "output_type": "stream",
     "text": [
      "<class 'pandas.core.frame.DataFrame'>\n",
      "Index: 6698 entries, 0 to 6703\n",
      "Data columns (total 7 columns):\n",
      " #   Column               Non-Null Count  Dtype  \n",
      "---  ------               --------------  -----  \n",
      " 0   Age                  6698 non-null   float64\n",
      " 1   Gender               6698 non-null   object \n",
      " 2   Education_Level      6698 non-null   object \n",
      " 3   Job_Title            6698 non-null   object \n",
      " 4   Years_of_Experience  6698 non-null   float64\n",
      " 5   Salary               6698 non-null   float64\n",
      " 6   Job Classification   6698 non-null   object \n",
      "dtypes: float64(3), object(4)\n",
      "memory usage: 418.6+ KB\n"
     ]
    }
   ],
   "source": [
    "data.info()"
   ]
  },
  {
   "cell_type": "code",
   "execution_count": 27,
   "metadata": {},
   "outputs": [],
   "source": [
    "data.drop('Job_Title', axis = 1, inplace = True)\n",
    "data.rename(columns={'Job Classification': 'Job_Title'}, inplace = True)"
   ]
  },
  {
   "cell_type": "code",
   "execution_count": 28,
   "metadata": {},
   "outputs": [
    {
     "name": "stdout",
     "output_type": "stream",
     "text": [
      "Columna Gender: ['male' 'female' 'other'] subniveles\n",
      "\n",
      "Columna Education_Level: [\"bachelor's\" \"master's\" 'phd' 'high school'] subniveles\n",
      "\n",
      "Columna Job_Title: ['Engineer' 'Analyst' 'Manager' 'Associate' 'Director' 'Coordinator'\n",
      " 'Scientist' 'Developer' 'Rep' 'Clerk' 'Executive' 'Support' 'Recruiter'\n",
      " 'Specialist' 'Consultant' 'Designer' 'Accountant' 'Writer' 'Generalist'\n",
      " 'Other' 'Copywriter' 'Researcher' 'Officer' 'Advisor' 'Producer'] subniveles\n",
      "\n"
     ]
    }
   ],
   "source": [
    "for col in cols_cat:\n",
    "  print(f'Columna {col}: {data[col].unique()} subniveles\\n')"
   ]
  },
  {
   "cell_type": "markdown",
   "metadata": {},
   "source": [
    "## Etapa 3 - Filas repetidas"
   ]
  },
  {
   "cell_type": "code",
   "execution_count": 29,
   "metadata": {},
   "outputs": [
    {
     "name": "stdout",
     "output_type": "stream",
     "text": [
      "Tamaño del set antes de eliminar las filas repetidas: (6698, 6)\n",
      "Tamaño del set después de eliminar las filas repetidas: (1731, 6)\n"
     ]
    }
   ],
   "source": [
    "print(f'Tamaño del set antes de eliminar las filas repetidas: {data.shape}')\n",
    "data.drop_duplicates(inplace=True)\n",
    "print(f'Tamaño del set después de eliminar las filas repetidas: {data.shape}')"
   ]
  },
  {
   "cell_type": "markdown",
   "metadata": {},
   "source": [
    "## Etapa 4 - Valores grandes"
   ]
  },
  {
   "cell_type": "code",
   "execution_count": 30,
   "metadata": {},
   "outputs": [
    {
     "name": "stdout",
     "output_type": "stream",
     "text": [
      "<class 'pandas.core.frame.DataFrame'>\n",
      "Index: 1731 entries, 0 to 6631\n",
      "Data columns (total 6 columns):\n",
      " #   Column               Non-Null Count  Dtype  \n",
      "---  ------               --------------  -----  \n",
      " 0   Age                  1731 non-null   float64\n",
      " 1   Gender               1731 non-null   object \n",
      " 2   Education_Level      1731 non-null   object \n",
      " 3   Years_of_Experience  1731 non-null   float64\n",
      " 4   Salary               1731 non-null   float64\n",
      " 5   Job_Title            1731 non-null   object \n",
      "dtypes: float64(3), object(3)\n",
      "memory usage: 94.7+ KB\n"
     ]
    }
   ],
   "source": [
    "data.info()"
   ]
  },
  {
   "cell_type": "code",
   "execution_count": 31,
   "metadata": {},
   "outputs": [
    {
     "data": {
      "image/png": "[encoded data removed]",
      "text/plain": [
       "<Figure size 1000x1500 with 3 Axes>"
      ]
     },
     "metadata": {},
     "output_type": "display_data"
    }
   ],
   "source": [
    "cols_num = ['Age', 'Years_of_Experience', 'Salary']\n",
    "\n",
    "fig, ax = plt.subplots(nrows=3, ncols=1, figsize=(10,15))\n",
    "fig.subplots_adjust(hspace=0.5)\n",
    "\n",
    "for i, col in enumerate(cols_num):\n",
    "    sns.boxplot(x=col, data=data, ax=ax[i])\n",
    "    ax[i].set_title(col)"
   ]
  },
  {
   "cell_type": "markdown",
   "metadata": {},
   "source": [
    "### Visuluzación de correlación de data"
   ]
  },
  {
   "cell_type": "code",
   "execution_count": 32,
   "metadata": {},
   "outputs": [
    {
     "name": "stdout",
     "output_type": "stream",
     "text": [
      "Correlación entre Age y Salary: 0.7637688284080536\n"
     ]
    },
    {
     "data": {
      "image/png": "[encoded data removed]",
      "text/plain": [
       "<Figure size 640x480 with 1 Axes>"
      ]
     },
     "metadata": {},
     "output_type": "display_data"
    }
   ],
   "source": [
    "# Calcular la correlación entre las dos columnas\n",
    "correlation = data['Age'].corr(data['Salary'])\n",
    "print(\"Correlación entre Age y Salary:\", correlation)\n",
    "\n",
    "# Crear un gráfico de dispersión para visualizar la relación\n",
    "plt.scatter(data['Age'], data['Salary'])\n",
    "plt.xlabel('Age')\n",
    "plt.ylabel('Salary')\n",
    "plt.title('Gráfico de dispersión: Age vs Salary')\n",
    "plt.show()"
   ]
  },
  {
   "cell_type": "code",
   "execution_count": 33,
   "metadata": {},
   "outputs": [
    {
     "data": {
      "image/png": "[encoded data removed]",
      "text/plain": [
       "<Figure size 640x480 with 1 Axes>"
      ]
     },
     "metadata": {},
     "output_type": "display_data"
    }
   ],
   "source": [
    "# Crear un gráfico de dispersión para visualizar la relación\n",
    "plt.scatter(data['Years_of_Experience'], data['Salary'])\n",
    "plt.xlabel('Years_of_Experience')\n",
    "plt.ylabel('Salary')\n",
    "plt.title('Gráfico de dispersión: Years_of_Experience vs Salary')\n",
    "plt.show()"
   ]
  },
  {
   "cell_type": "code",
   "execution_count": 34,
   "metadata": {},
   "outputs": [
    {
     "data": {
      "text/plain": [
       "count      1731.000000\n",
       "mean     113777.577701\n",
       "std       51562.477847\n",
       "min         350.000000\n",
       "25%       70000.000000\n",
       "50%      112439.000000\n",
       "75%      160000.000000\n",
       "max      250000.000000\n",
       "Name: Salary, dtype: float64"
      ]
     },
     "execution_count": 34,
     "metadata": {},
     "output_type": "execute_result"
    }
   ],
   "source": [
    "data['Salary'].describe()"
   ]
  },
  {
   "cell_type": "markdown",
   "metadata": {},
   "source": [
    "### Prueba sin outliers"
   ]
  },
  {
   "cell_type": "code",
   "execution_count": 35,
   "metadata": {},
   "outputs": [],
   "source": [
    "data_sin_outliers = data.copy()"
   ]
  },
  {
   "cell_type": "markdown",
   "metadata": {},
   "source": [
    "#### Edad"
   ]
  },
  {
   "cell_type": "code",
   "execution_count": 36,
   "metadata": {},
   "outputs": [
    {
     "name": "stdout",
     "output_type": "stream",
     "text": [
      "\n",
      "Datos sin outliers:\n",
      "        Age  Gender Education_Level  Years_of_Experience    Salary    Job_Title\n",
      "0     32.0    male      bachelor's                  5.0   90000.0     Engineer\n",
      "1     28.0  female        master's                  3.0   65000.0      Analyst\n",
      "3     36.0  female      bachelor's                  7.0   60000.0    Associate\n",
      "5     29.0    male      bachelor's                  2.0   55000.0      Analyst\n",
      "7     31.0    male      bachelor's                  4.0   80000.0      Manager\n",
      "8     26.0  female      bachelor's                  1.0   45000.0  Coordinator\n",
      "10    29.0    male        master's                  3.0   75000.0    Developer\n",
      "12    35.0    male      bachelor's                  6.0   65000.0      Analyst\n",
      "14    27.0    male      bachelor's                  2.0   40000.0          Rep\n",
      "16    33.0  female        master's                  7.0   90000.0      Manager\n",
      "18    25.0  female      bachelor's                  0.0   35000.0        Clerk\n",
      "20    34.0  female        master's                  5.0   80000.0      Analyst\n",
      "22    30.0    male      bachelor's                  2.0   50000.0      Support\n",
      "23    36.0  female      bachelor's                  9.0   60000.0    Recruiter\n",
      "25    28.0  female      bachelor's                  3.0   45000.0   Specialist\n",
      "27    24.0    male      bachelor's                  1.0   40000.0    Developer\n",
      "29    33.0    male        master's                  6.0   90000.0     Designer\n",
      "31    31.0  female      bachelor's                  4.0   55000.0   Accountant\n",
      "32    29.0    male        master's                  3.0   75000.0    Scientist\n",
      "35    27.0    male      bachelor's                  2.0   45000.0       Writer\n",
      "36    35.0  female      bachelor's                  7.0   60000.0   Generalist\n",
      "38    26.0  female      bachelor's                  1.0   40000.0          Rep\n",
      "40    34.0  female        master's                  5.0   80000.0     Designer\n",
      "42    30.0    male      bachelor's                  3.0   60000.0     Engineer\n",
      "43    36.0  female      bachelor's                  8.0   45000.0        Other\n",
      "45    28.0  female      bachelor's                  2.0   40000.0   Copywriter\n",
      "46    32.0    male      bachelor's                  5.0   75000.0      Manager\n",
      "49    25.0    male      bachelor's                  0.0   35000.0      Analyst\n",
      "51    33.0    male        master's                  7.0   85000.0      Analyst\n",
      "54    29.0  female      bachelor's                  3.0   50000.0     Designer\n",
      "55    36.0    male      bachelor's                  9.0   95000.0      Manager\n",
      "56    27.0  female        master's                  2.0   65000.0   Researcher\n",
      "58    30.0  female      bachelor's                  4.0   55000.0      Manager\n",
      "59    35.0    male        master's                  7.0  105000.0      Manager\n",
      "61    29.0    male      bachelor's                  3.0   50000.0      Analyst\n",
      "64    26.0    male      bachelor's                  1.0   35000.0   Accountant\n",
      "67    31.0  female      bachelor's                  5.0   45000.0          Rep\n",
      "68    34.0    male        master's                  8.0   90000.0      Manager\n",
      "70    33.0    male      bachelor's                  6.0   65000.0    Developer\n",
      "73    28.0    male      bachelor's                  2.0   40000.0   Specialist\n",
      "77    32.0    male        master's                  6.0  100000.0     Engineer\n",
      "79    30.0  female      bachelor's                  3.0   55000.0      Manager\n",
      "80    36.0    male      bachelor's                  8.0   70000.0    Recruiter\n",
      "82    25.0    male      bachelor's                  0.0   30000.0          Rep\n",
      "84    29.0  female      bachelor's                  2.0   40000.0     Designer\n",
      "85    34.0  female        master's                 10.0   95000.0      Advisor\n",
      "86    27.0    male      bachelor's                  2.0   45000.0      Manager\n",
      "89    31.0  female      bachelor's                  6.0   55000.0  Coordinator\n",
      "90    36.0    male             phd                 11.0  120000.0    Scientist\n",
      "91    29.0  female      bachelor's                  3.0   40000.0    Associate\n",
      "94    33.0    male      bachelor's                  7.0   75000.0      Analyst\n",
      "97    26.0    male      bachelor's                  1.0   35000.0    Developer\n",
      "100   31.0  female      bachelor's                  5.0   45000.0  Coordinator\n",
      "101   35.0    male        master's                  8.0   95000.0      Manager\n",
      "103   33.0    male      bachelor's                  5.0   50000.0    Developer\n",
      "106   30.0  female      bachelor's                  3.0   50000.0     Producer\n",
      "107   36.0    male      bachelor's                  7.0   60000.0   Specialist\n",
      "109   28.0    male      bachelor's                  2.0   40000.0      Manager\n",
      "113   32.0    male        master's                  6.0   90000.0      Analyst\n",
      "114   23.0  female      bachelor's                  0.5   35000.0      Analyst\n",
      "115   31.0    male        master's                  6.0   95000.0      Analyst\n",
      "118   29.0  female      bachelor's                  3.0   45000.0   Generalist\n",
      "119   35.0    male        master's                 10.0  120000.0      Manager\n",
      "122   33.0  female      bachelor's                  5.0   50000.0      Analyst\n",
      "125   26.0    male      bachelor's                  2.0   40000.0   Accountant\n",
      "128   32.0  female      bachelor's                  4.0   50000.0  Coordinator\n",
      "129   34.0    male        master's                  8.0  105000.0    Developer\n",
      "131   29.0    male      bachelor's                  3.0   45000.0     Designer\n",
      "134   27.0    male      bachelor's                  1.0   35000.0          Rep\n",
      "137   30.0  female      bachelor's                  4.0   50000.0      Manager\n",
      "138   36.0    male      bachelor's                  7.0   60000.0      Analyst\n",
      "140   28.0    male      bachelor's                  2.0   40000.0      Analyst\n",
      "144   25.0  female        master's                  1.5   40000.0   Specialist\n",
      "145   34.0    male      bachelor's                  8.0   90000.0      Analyst\n",
      "147   31.0    male      bachelor's                  4.0   60000.0      Manager\n",
      "150   29.0  female      bachelor's                  3.0   45000.0    Recruiter\n",
      "151   36.0    male        master's                 11.0  120000.0      Manager\n",
      "153   26.0    male      bachelor's                  2.0   35000.0   Specialist\n",
      "156   32.0  female      bachelor's                  5.0   50000.0      Analyst\n",
      "157   33.0    male        master's                  7.0  115000.0      Manager\n",
      "159   28.0    male      bachelor's                  2.0   40000.0     Engineer\n",
      "162   30.0  female      bachelor's                  3.0   45000.0   Copywriter\n",
      "163   35.0    male      bachelor's                  7.0   80000.0  Coordinator\n",
      "165   27.0    male      bachelor's                  1.5   35000.0    Associate\n",
      "168   31.0  female      bachelor's                  4.0   50000.0  Coordinator\n",
      "169   34.0    male        master's                  9.0  105000.0     Engineer\n",
      "171   29.0    male      bachelor's                  2.0   40000.0  Coordinator\n",
      "174   26.0  female        master's                  1.5   45000.0    Scientist\n",
      "175   35.0    male      bachelor's                  7.0   85000.0      Analyst\n",
      "177   31.0    male      bachelor's                  4.0   50000.0   Accountant\n",
      "180   29.0  female      bachelor's                  2.0   40000.0          Rep\n",
      "183   27.0    male      bachelor's                  2.0   40000.0      Manager\n",
      "184   36.0  female      bachelor's                  8.0   85000.0   Specialist\n",
      "186   33.0  female        master's                  6.0   95000.0      Analyst\n",
      "187   34.0    male      bachelor's                  9.0  100000.0      Analyst\n",
      "189   28.0    male      bachelor's                  1.5   35000.0      Analyst\n",
      "192   30.0  female      bachelor's                  3.0   45000.0      Manager\n",
      "193   34.0    male      bachelor's                  7.0   95000.0      Manager\n",
      "198   32.0  female      bachelor's                  5.0   55000.0      Manager\n",
      "199   35.0    male        master's                  9.0  110000.0    Developer\n",
      "201   30.0    male      bachelor's                  3.0   45000.0  Coordinator\n",
      "203   27.0  female        master's                  1.5   45000.0     Designer\n",
      "204   36.0    male      bachelor's                  7.0   90000.0   Accountant\n",
      "206   31.0    male      bachelor's                  4.0   50000.0   Generalist\n",
      "209   30.0  female      bachelor's                  2.0   40000.0  Coordinator\n",
      "212   28.0    male      bachelor's                  2.0   40000.0    Associate\n",
      "213   35.0  female      bachelor's                  8.0   85000.0      Analyst\n",
      "215   34.0  female        master's                  6.0  100000.0      Advisor\n",
      "216   35.0    male      bachelor's                  9.0   95000.0  Coordinator\n",
      "218   29.0    male      bachelor's                  1.5   35000.0      Analyst\n",
      "221   31.0  female      bachelor's                  3.0   45000.0   Specialist\n",
      "222   33.0    male      bachelor's                  7.0  100000.0      Manager\n",
      "227   33.0  female      bachelor's                  5.0   70000.0      Manager\n",
      "230   30.0    male      bachelor's                  3.0   45000.0   Specialist\n",
      "232   27.0  female        master's                  1.5   50000.0    Scientist\n",
      "233   35.0    male      bachelor's                  8.0   85000.0      Analyst\n",
      "235   32.0    male      bachelor's                  3.0   45000.0          Rep\n",
      "238   33.0  female      bachelor's                  5.0   70000.0      Analyst\n",
      "241   29.0    male      bachelor's                  1.5   40000.0      Analyst\n",
      "244   34.0  female      bachelor's                  6.0   70000.0      Analyst\n",
      "245   36.0    male      bachelor's                  8.0   95000.0      Manager\n",
      "247   31.0    male      bachelor's                  3.0   50000.0      Analyst\n",
      "259   29.0    male      bachelor's                  1.5     350.0      Analyst\n",
      "263   31.0  female      bachelor's                  3.0   50000.0  Coordinator\n",
      "265   29.0  female      bachelor's                  1.5   40000.0          Rep\n",
      "266   36.0    male      bachelor's                  8.0   95000.0   Specialist\n",
      "268   33.0    male      bachelor's                  4.0   60000.0      Manager\n",
      "271   32.0  female      bachelor's                  4.0   60000.0      Manager\n",
      "274   30.0    male      bachelor's                  2.0   40000.0      Analyst\n",
      "277   34.0  female      bachelor's                  5.0   70000.0      Analyst\n",
      "283   29.0  female      bachelor's                  1.5   35000.0    Associate\n",
      "284   35.0    male      bachelor's                  9.0  100000.0      Manager\n",
      "286   33.0    male      bachelor's                  4.0   60000.0      Analyst\n",
      "289   32.0    male      bachelor's                  4.0   65000.0      Manager\n",
      "292   29.0  female      bachelor's                  2.0   40000.0   Specialist\n",
      "293   35.0    male      bachelor's                  7.0   90000.0      Manager\n",
      "301   31.0    male      bachelor's                  3.0   55000.0      Manager\n",
      "305   36.0    male      bachelor's                  8.0   95000.0      Analyst\n",
      "316   34.0  female        master's                  6.0   80000.0      Advisor\n",
      "321   32.0    male      bachelor's                  4.0   65000.0      Advisor\n",
      "324   29.0  female      bachelor's                  2.0   40000.0      Analyst\n",
      "325   36.0    male      bachelor's                  9.0  100000.0      Manager\n",
      "327   32.0    male      bachelor's                  3.0   55000.0  Coordinator\n",
      "330   31.0  female      bachelor's                  3.0   50000.0    Associate\n",
      "334   36.0  female      bachelor's                  8.0   95000.0      Manager\n",
      "336   29.0  female      bachelor's                  2.0   40000.0      Manager\n",
      "337   34.0    male      bachelor's                  7.0   90000.0  Coordinator\n",
      "339   33.0    male      bachelor's                  5.0   70000.0   Specialist\n",
      "340   35.0  female      bachelor's                  8.0   90000.0      Manager\n",
      "342   31.0  female      bachelor's                  3.0   50000.0      Analyst\n",
      "348   28.0  female      bachelor's                  1.0   35000.0      Manager\n",
      "349   36.0    male      bachelor's                  8.0  110000.0      Manager\n",
      "351   31.0    male      bachelor's                  3.0   55000.0  Coordinator\n",
      "375   31.0    male        master's                  6.0  160000.0    Scientist\n",
      "376   28.0  female      bachelor's                  3.0  125000.0     Engineer\n",
      "377   26.0    male        master's                  2.0  120000.0      Manager\n",
      "378   27.0  female      bachelor's                  2.0  110000.0      Analyst\n",
      "379   30.0    male             phd                  5.0  180000.0    Scientist\n",
      "380   29.0  female      bachelor's                  4.0  140000.0     Engineer\n",
      "381   32.0    male      bachelor's                  7.0  170000.0      Manager\n",
      "382   25.0  female        master's                  1.0  100000.0      Analyst\n",
      "383   33.0    male             phd                  8.0  190000.0    Scientist\n",
      "384   31.0  female      bachelor's                  6.0  155000.0     Engineer\n",
      "385   28.0    male        master's                  3.0  130000.0      Manager\n",
      "386   30.0  female      bachelor's                  5.0  145000.0      Analyst\n",
      "387   27.0    male             phd                  2.0  115000.0    Scientist\n",
      "389   34.0    male      bachelor's                  9.0  185000.0      Manager\n",
      "395   28.0    male      bachelor's                  3.0  125000.0     Engineer\n",
      "396   26.0  female        master's                  2.0  120000.0      Manager\n",
      "397   27.0    male      bachelor's                  2.0  110000.0      Analyst\n",
      "398   30.0  female             phd                  5.0  180000.0    Scientist\n",
      "399   29.0    male      bachelor's                  4.0  140000.0     Engineer\n",
      "506   26.0    male      bachelor's                  3.0  130000.0      Analyst\n",
      "507   29.0  female        master's                  6.0  180000.0    Scientist\n",
      "508   32.0    male      bachelor's                  8.0  190000.0     Engineer\n",
      "509   27.0  female      bachelor's                  4.0  150000.0      Manager\n",
      "510   24.0    male      bachelor's                  1.0   90000.0      Analyst\n",
      "511   31.0  female        master's                  9.0  195000.0    Scientist\n",
      "512   28.0    male      bachelor's                  5.0  160000.0     Engineer\n",
      "513   33.0  female        master's                 11.0  198000.0      Manager\n",
      "514   25.0    male      bachelor's                  2.0  110000.0      Analyst\n",
      "515   30.0  female             phd                  7.0  185000.0    Scientist\n",
      "516   27.0    male      bachelor's                  4.0  140000.0     Engineer\n",
      "517   34.0  female        master's                 12.0  196000.0      Manager\n",
      "518   23.0    male      bachelor's                  1.0   95000.0      Analyst\n",
      "519   32.0  female             phd                 10.0  193000.0    Scientist\n",
      "520   29.0    male      bachelor's                  6.0  175000.0     Engineer\n",
      "521   30.0  female      bachelor's                  5.0  160000.0      Manager\n",
      "523   31.0  female        master's                  6.0  180000.0    Scientist\n",
      "534   31.0    male      bachelor's                  9.0  195000.0      Analyst\n",
      "535   28.0  female      bachelor's                  5.0  160000.0     Engineer\n",
      "536   33.0    male        master's                 11.0  198000.0      Manager\n",
      "537   26.0  female      bachelor's                  3.0  130000.0      Analyst\n",
      "538   30.0    male             phd                  7.0  185000.0    Scientist\n",
      "539   27.0  female      bachelor's                  4.0  140000.0     Engineer\n",
      "540   34.0    male        master's                 12.0  196000.0      Manager\n",
      "541   25.0  female      bachelor's                  2.0  110000.0      Analyst\n",
      "544   30.0    male      bachelor's                  5.0  160000.0      Analyst\n",
      "547   31.0  female             phd                  9.0  195000.0    Scientist\n",
      "596   25.0    male      bachelor's                  2.0  125000.0      Analyst\n",
      "597   28.0  female        master's                  6.0  175000.0    Scientist\n",
      "598   30.0    male      bachelor's                  8.0  190000.0     Engineer\n",
      "600   24.0    male      bachelor's                  1.0   95000.0      Analyst\n",
      "601   31.0    male        master's                  9.0  195000.0    Scientist\n",
      "608   23.0    male      bachelor's                  1.0   90000.0      Analyst\n",
      "610   29.0    male      bachelor's                  6.0  170000.0     Engineer\n",
      "612   26.0    male      bachelor's                  3.0  135000.0      Analyst\n",
      "620   25.0    male      bachelor's                  2.0  115000.0      Analyst\n",
      "677   27.0  female        master's                  4.0  150000.0    Scientist\n",
      "679   24.0  female      bachelor's                  3.0  125000.0      Manager\n",
      "681   31.0    male        master's                  7.0  180000.0    Scientist\n",
      "683   33.0  female        master's                 10.0  195000.0      Manager\n",
      "685   30.0  female             phd                  6.0  170000.0    Scientist\n",
      "687   34.0  female        master's                 11.0  196000.0      Manager\n",
      "688   23.0    male      bachelor's                  1.0   92000.0      Analyst\n",
      "689   32.0  female             phd                  9.0  195000.0    Scientist\n",
      "694   28.0    male      bachelor's                  5.0  165000.0     Engineer\n",
      "810   25.0    male      bachelor's                  3.0  135000.0      Analyst\n",
      "815   33.0  female        master's                 11.0  196000.0      Manager\n",
      "835   24.0    male      bachelor's                  1.0   92000.0      Analyst\n",
      "944   32.0    male      bachelor's                  5.0  135000.0      Analyst\n",
      "945   27.0  female        master's                  3.0  180000.0    Scientist\n",
      "947   35.0  female      bachelor's                  8.0  165000.0      Manager\n",
      "949   29.0  female      bachelor's                  4.0  150000.0     Engineer\n",
      "950   36.0    male      bachelor's                  9.0  162000.0      Analyst\n",
      "951   31.0    male        master's                  6.0  175000.0    Scientist\n",
      "953   33.0    male      bachelor's                  7.0  142000.0      Analyst\n",
      "954   29.0  female        master's                  4.0  182000.0    Scientist\n",
      "956   35.0  female      bachelor's                  8.0  170000.0      Manager\n",
      "957   27.0    male      bachelor's                  4.0  160000.0     Engineer\n",
      "958   32.0    male      bachelor's                  8.0  180000.0    Scientist\n",
      "959   29.0  female        master's                  6.0  150000.0      Analyst\n",
      "960   30.0    male      bachelor's                  5.0  140000.0      Analyst\n",
      "961   24.0    male      bachelor's                  2.0  100000.0      Analyst\n",
      "962   33.0  female        master's                 11.0  190000.0      Manager\n",
      "964   26.0    male      bachelor's                  3.0  120000.0      Analyst\n",
      "965   30.0  female             phd                  7.0  170000.0    Scientist\n",
      "966   31.0    male      bachelor's                  9.0  190000.0      Analyst\n",
      "967   28.0  female      bachelor's                  5.0  150000.0     Engineer\n",
      "968   26.0  female      bachelor's                  3.0  120000.0      Analyst\n",
      "969   30.0    male             phd                  7.0  170000.0    Scientist\n",
      "970   27.0  female      bachelor's                  4.0  130000.0      Manager\n",
      "971   24.0    male      bachelor's                  2.0   95000.0      Analyst\n",
      "972   33.0    male        master's                 11.0  195000.0      Manager\n",
      "973   25.0    male      bachelor's                  2.0  100000.0      Analyst\n",
      "974   28.0    male      bachelor's                  5.0  150000.0     Engineer\n",
      "976   29.0  female        master's                  6.0  150000.0    Scientist\n",
      "978   33.0  female        master's                 11.0  195000.0      Manager\n",
      "980   31.0  female        master's                  6.0  170000.0    Scientist\n",
      "985   32.0    male      bachelor's                  8.0  180000.0     Engineer\n",
      "990   34.0  female        master's                 12.0  190000.0      Manager\n",
      "999   25.0  female      bachelor's                  2.0  100000.0      Analyst\n",
      "1091  29.0    male      bachelor's                  7.0  180000.0     Engineer\n",
      "1092  27.0  female      bachelor's                  5.0  120000.0      Analyst\n",
      "1093  33.0    male        master's                 10.0  195000.0    Scientist\n",
      "1094  28.0    male      bachelor's                  4.0  160000.0     Engineer\n",
      "1095  26.0  female      bachelor's                  3.0  100000.0      Analyst\n",
      "1096  31.0    male      bachelor's                  8.0  190000.0      Manager\n",
      "1097  30.0    male        master's                  6.0  170000.0     Engineer\n",
      "1098  32.0  female      bachelor's                  9.0  185000.0    Scientist\n",
      "1099  29.0    male      bachelor's                  7.0  130000.0      Analyst\n",
      "1100  35.0  female      bachelor's                 12.0  190000.0      Manager\n",
      "1101  27.0    male      bachelor's                  5.0  150000.0     Engineer\n",
      "1102  28.0  female        master's                  6.0  150000.0    Scientist\n",
      "1104  26.0    male      bachelor's                  3.0  110000.0      Analyst\n",
      "1105  30.0  female      bachelor's                  8.0  180000.0     Engineer\n",
      "1106  31.0    male        master's                  9.0  185000.0    Scientist\n",
      "1107  29.0  female      bachelor's                  7.0  130000.0      Analyst\n",
      "1108  32.0    male      bachelor's                 10.0  190000.0     Engineer\n",
      "1109  28.0  female        master's                  6.0  155000.0    Scientist\n",
      "1110  34.0    male      bachelor's                 12.0  195000.0     Engineer\n",
      "1111  25.0  female      bachelor's                  2.0   90000.0      Analyst\n",
      "1112  30.0    male      bachelor's                  8.0  185000.0      Manager\n",
      "1113  29.0  female      bachelor's                  6.0  120000.0      Analyst\n",
      "1114  31.0    male      bachelor's                  9.0  180000.0     Engineer\n",
      "1118  27.0  female      bachelor's                  5.0  125000.0      Analyst\n",
      "1201  28.0    male      bachelor's                  7.0  175000.0     Engineer\n",
      "1203  33.0  female        master's                  5.0  110000.0    Developer\n",
      "1205  27.0  female        master's                  3.0  100000.0     Engineer\n",
      "1206  25.0    male      bachelor's                  1.0   60000.0    Developer\n",
      "1207  35.0    male        master's                  8.0  155000.0     Engineer\n",
      "1210  32.0    male      bachelor's                  4.0   95000.0    Developer\n",
      "1215  30.0  female      bachelor's                  2.0   75000.0    Developer\n",
      "1216  26.0  female        master's                  3.0   90000.0    Developer\n",
      "1218  32.0    male      bachelor's                  5.0  115000.0     Engineer\n",
      "1221  27.0    male      bachelor's                  4.0  115000.0     Engineer\n",
      "1224  35.0    male        master's                  7.0  140000.0     Engineer\n",
      "1226  26.0  female        master's                  2.0   70000.0    Developer\n",
      "1229  36.0  female        master's                  8.0  140000.0     Engineer\n",
      "1234  26.0    male      bachelor's                  2.0   70000.0    Developer\n",
      "1235  24.0  female      bachelor's                  1.0   60000.0    Developer\n",
      "1239  23.0    male      bachelor's                  1.0   55000.0     Engineer\n",
      "1242  33.0  female      bachelor's                  5.0  105000.0    Developer\n",
      "1243  31.0    male        master's                  6.0  130000.0     Engineer\n",
      "1245  24.0  female        master's                  1.0   60000.0    Developer\n",
      "1247  24.0    male      bachelor's                  1.0   60000.0    Developer\n",
      "1251  34.0    male        master's                  6.0  125000.0    Developer\n",
      "1253  29.0    male      bachelor's                  3.0   90000.0     Engineer\n",
      "1254  29.0    male      bachelor's                  3.0   80000.0    Developer\n",
      "1255  29.0  female      bachelor's                  3.0   85000.0    Developer\n",
      "1262  27.0  female        master's                  3.0   95000.0     Engineer\n",
      "1263  23.0    male      bachelor's                  1.0   55000.0    Developer\n",
      "1265  32.0  female        master's                  5.0  120000.0     Engineer\n",
      "1268  25.0  female        master's                  2.0   75000.0    Developer\n",
      "1276  32.0    male      bachelor's                  5.0  120000.0     Engineer\n",
      "1283  33.0    male        master's                  6.0  130000.0    Developer\n",
      "1291  34.0    male        master's                  6.0  125000.0     Engineer\n",
      "1293  30.0    male      bachelor's                  4.0   95000.0    Developer\n",
      "1297  27.0    male      bachelor's                  3.0   80000.0    Developer\n",
      "1300  31.0    male        master's                  6.0  125000.0     Engineer\n",
      "1301  28.0  female        master's                  4.0  110000.0     Engineer\n",
      "1302  30.0  female        master's                  6.0  130000.0    Developer\n",
      "1307  31.0    male        master's                  7.0  140000.0     Engineer\n",
      "1310  23.0  female      bachelor's                  1.0   55000.0    Developer\n",
      "1314  32.0  female        master's                  6.0  130000.0     Engineer\n",
      "1316  32.0    male        master's                  6.0  130000.0    Developer\n",
      "1317  34.0    male        master's                  7.0  140000.0     Engineer\n",
      "1318  28.0    male      bachelor's                  2.0   70000.0    Developer\n",
      "1323  27.0  female        master's                  2.0   70000.0    Developer\n",
      "1331  28.0  female      bachelor's                  2.0   70000.0    Developer\n",
      "1334  36.0    male        master's                  7.0  140000.0     Engineer\n",
      "1336  28.0  female      bachelor's                  3.0   80000.0    Developer\n",
      "1340  28.0  female        master's                  3.0   90000.0    Developer\n",
      "1352  27.0    male      bachelor's                  2.0   70000.0    Developer\n",
      "1358  33.0    male        master's                  6.0  130000.0     Engineer\n",
      "1387  24.0  female      bachelor's                  1.0   55000.0    Developer\n",
      "1409  36.0    male        master's                  8.0  140000.0     Engineer\n",
      "1410  26.0    male      bachelor's                  2.0   65000.0    Developer\n",
      "1412  32.0    male        master's                  6.0  120000.0     Engineer\n",
      "1420  27.0  female        master's                  2.0   65000.0    Developer\n",
      "1423  36.0    male        master's                  7.0  130000.0     Engineer\n",
      "1425  33.0  female        master's                  5.0  120000.0     Engineer\n",
      "1438  25.0    male      bachelor's                  1.0   55000.0    Developer\n",
      "1492  31.0    male        master's                  7.0  135000.0     Engineer\n",
      "1493  24.0    male      bachelor's                  1.0   55000.0    Developer\n",
      "1528  34.0    male      bachelor's                  5.0   95000.0    Developer\n",
      "1530  27.0    male      bachelor's                  2.0   75000.0    Developer\n",
      "1532  32.0    male        master's                  7.0  135000.0     Engineer\n",
      "1538  34.0    male      bachelor's                  6.0  120000.0    Developer\n",
      "1649  36.0    male      bachelor's                  7.0  120000.0    Developer\n",
      "1650  29.0  female        master's                  3.0   90000.0    Developer\n",
      "1652  33.0    male      bachelor's                  7.0  130000.0     Engineer\n",
      "1656  26.0  female        master's                  1.0   55000.0    Developer\n",
      "1659  30.0    male        master's                  5.0  105000.0     Engineer\n",
      "1661  32.0    male      bachelor's                  6.0  110000.0    Developer\n",
      "1663  27.0    male      bachelor's                  3.0   85000.0    Developer\n",
      "1665  25.0  female      bachelor's                  1.0   55000.0    Developer\n",
      "1667  35.0    male      bachelor's                  8.0  140000.0    Developer\n",
      "1670  35.0    male      bachelor's                  8.0  145000.0     Engineer\n",
      "1673  33.0    male      bachelor's                  6.0  110000.0    Developer\n",
      "1770  31.0    male      bachelor's                  6.0  115000.0    Developer\n",
      "1772  27.0  female      bachelor's                  3.0   80000.0    Developer\n",
      "1774  34.0  female        master's                  7.0  130000.0     Engineer\n",
      "1776  29.0    male      bachelor's                  5.0  105000.0    Developer\n",
      "1778  36.0    male        master's                  8.0  140000.0    Developer\n",
      "1780  35.0  female      bachelor's                  8.0  145000.0     Engineer\n",
      "1781  30.0  female        master's                  4.0   90000.0    Developer\n",
      "1783  29.0    male      bachelor's                  4.0   95000.0    Developer\n",
      "1785  33.0  female      bachelor's                  6.0  115000.0     Engineer\n",
      "1787  28.0  female      bachelor's                  2.0   65000.0    Developer\n",
      "1789  30.0    male      bachelor's                  5.0  100000.0    Developer\n",
      "1793  31.0    male      bachelor's                  6.0  115000.0     Engineer\n",
      "1795  36.0    male        master's                  9.0  150000.0    Developer\n",
      "1890  25.0  female      bachelor's                  1.0     550.0    Developer\n",
      "1891  29.0    male      bachelor's                  4.0   90000.0    Developer\n",
      "1895  33.0  female        master's                  6.0  115000.0     Engineer\n",
      "1897  28.0    male      bachelor's                  2.0   65000.0    Developer\n",
      "1899  35.0    male        master's                  8.0  140000.0    Developer\n",
      "1901  34.0  female      bachelor's                  7.0  130000.0     Engineer\n",
      "1902  31.0  female        master's                  5.0  105000.0    Developer\n",
      "1908  29.0  female      bachelor's                  4.0   90000.0    Developer\n",
      "1912  32.0  female        master's                  6.0  115000.0     Engineer\n",
      "1913  36.0    male      bachelor's                  8.0  135000.0      Manager\n",
      "1914  27.0    male      bachelor's                  2.0   65000.0    Developer\n",
      "1916  34.0    male        master's                  8.0  140000.0    Developer\n",
      "1918  33.0  female      bachelor's                  7.0  130000.0     Engineer\n",
      "1919  30.0  female        master's                  5.0  105000.0    Developer\n",
      "2012  31.0  female      bachelor's                  6.0  110000.0    Developer\n",
      "2132  31.0    male        master's                  8.0  130000.0      Manager\n",
      "2135  35.0  female        master's                  8.0  140000.0     Engineer\n",
      "2137  28.0  female      bachelor's                  2.0   55000.0    Developer\n",
      "2139  32.0    male        master's                  7.0  120000.0    Developer\n",
      "2141  30.0  female      bachelor's                  5.0  100000.0     Engineer\n",
      "2142  34.0    male        master's                  9.0  150000.0    Developer\n",
      "2146  29.0    male      bachelor's                  4.0   90000.0     Engineer\n",
      "2193  30.0    male        master's                  5.0  105000.0    Developer\n",
      "2195  31.0    male      bachelor's                  6.0   95000.0    Developer\n",
      "2251  28.0    male      bachelor's                  4.0   75000.0     Engineer\n",
      "2252  33.0  female        master's                  7.0   95000.0      Analyst\n",
      "2253  22.0    male      bachelor's                  1.0   50000.0    Developer\n",
      "2255  29.0  female      bachelor's                  3.0   65000.0    Developer\n",
      "2256  31.0    male        master's                  6.0  120000.0      Manager\n",
      "2257  25.0  female        master's                  2.0   60000.0     Engineer\n",
      "2259  27.0    male      bachelor's                  3.0   70000.0     Engineer\n",
      "2261  33.0    male        master's                  8.0  100000.0      Analyst\n",
      "2262  24.0  female      bachelor's                  2.0   55000.0    Developer\n",
      "2263  36.0    male             phd                 12.0  170000.0    Scientist\n",
      "2264  30.0  female      bachelor's                  5.0   90000.0     Engineer\n",
      "2265  29.0    male      bachelor's                  4.0   80000.0    Developer\n",
      "2267  26.0    male      bachelor's                  2.0   60000.0    Developer\n",
      "2268  35.0  female        master's                  9.0  120000.0      Analyst\n",
      "2269  27.0  female      bachelor's                  3.0   70000.0     Engineer\n",
      "2271  34.0    male        master's                  9.0  140000.0    Scientist\n",
      "2272  23.0  female      bachelor's                  1.0   50000.0     Engineer\n",
      "2273  32.0    male        master's                  7.0  110000.0      Manager\n",
      "2278  34.0    male        master's                  8.0  100000.0      Analyst\n",
      "2375  34.0  female      bachelor's                  8.0  122485.0     Engineer\n",
      "2376  25.0    male             phd                 12.0  169159.0      Manager\n",
      "2379  27.0  female        master's                  5.0   78354.0    Developer\n",
      "2380  25.0    male      bachelor's                  2.0   90249.0    Developer\n",
      "2381  29.0  female        master's                  6.0  132720.0     Engineer\n",
      "2385  25.0   other     high school                  2.0   69032.0     Engineer\n",
      "2386  35.0    male        master's                  8.0  101332.0     Engineer\n",
      "2388  35.0  female      bachelor's                 12.0  166375.0     Engineer\n",
      "2393  26.0    male      bachelor's                  3.0   75072.0    Developer\n",
      "2394  34.0  female        master's                 10.0  163398.0     Engineer\n",
      "2395  30.0    male     high school                 11.0  103947.0     Engineer\n",
      "2399  35.0  female        master's                 10.0  152039.0     Engineer\n",
      "2400  28.0    male        master's                  5.0   76742.0    Developer\n",
      "2403  28.0    male     high school                  7.0   95845.0    Developer\n",
      "2404  34.0    male        master's                 12.0  160976.0     Engineer\n",
      "2405  33.0  female        master's                  9.0  126753.0     Engineer\n",
      "2407  33.0    male        master's                  8.0  139817.0     Engineer\n",
      "2409  35.0  female      bachelor's                 10.0  114776.0    Developer\n",
      "2410  30.0    male        master's                  6.0  105725.0     Engineer\n",
      "2411  24.0  female     high school                  1.0   52731.0     Engineer\n",
      "2412  36.0    male        master's                  8.0  106492.0    Developer\n",
      "2413  27.0  female      bachelor's                  4.0   73895.0     Engineer\n",
      "2414  23.0    male             phd                  1.0  119836.0      Manager\n",
      "2415  28.0  female        master's                  5.0   99747.0     Engineer\n",
      "2417  28.0  female        master's                  7.0  115920.0     Engineer\n",
      "2418  32.0    male        master's                 11.0  128078.0     Engineer\n",
      "2419  24.0  female      bachelor's                  1.0   51265.0    Developer\n",
      "2422  24.0    male        master's                  0.0   55538.0    Developer\n",
      "2424  29.0  female        master's                  4.0  104702.0     Engineer\n",
      "2427  27.0    male      bachelor's                  4.0   82683.0    Developer\n",
      "2430  30.0    male        master's                  8.0  107895.0    Developer\n",
      "2432  26.0    male        master's                  4.0  102859.0     Engineer\n",
      "2436  22.0  female     high school                  0.0   51832.0    Developer\n",
      "2440  27.0  female        master's                  4.0   73938.0    Developer\n",
      "2441  36.0    male      bachelor's                 14.0  119224.0     Engineer\n",
      "2442  31.0  female        master's                  6.0  101186.0     Engineer\n",
      "2448  31.0   other     high school                  8.0  104127.0    Developer\n",
      "2450  29.0  female             phd                  5.0   98568.0     Engineer\n",
      "2451  32.0    male      bachelor's                  9.0  104661.0      Manager\n",
      "2453  34.0    male      bachelor's                 10.0   94502.0    Developer\n",
      "2454  23.0   other     high school                  2.0   62852.0    Developer\n",
      "2535  36.0    male      bachelor's                 14.0  139095.0    Developer\n",
      "2536  30.0  female        master's                  5.0  106278.0     Engineer\n",
      "2537  28.0    male        master's                  4.0   90452.0     Engineer\n",
      "2539  34.0    male      bachelor's                 10.0  126593.0    Developer\n",
      "2542  35.0    male        master's                  9.0  130275.0     Engineer\n",
      "2544  23.0  female     high school                  2.0   62807.0    Developer\n",
      "2546  33.0  female      bachelor's                  9.0  133326.0     Engineer\n",
      "2547  26.0    male        master's                  4.0   75656.0    Developer\n",
      "2549  36.0    male        master's                 11.0  137775.0     Engineer\n",
      "2550  23.0  female      bachelor's                  0.0   51831.0     Engineer\n",
      "2552  35.0  female        master's                 10.0  151901.0     Engineer\n",
      "2553  31.0    male      bachelor's                  8.0  100052.0    Developer\n",
      "2556  33.0  female        master's                 10.0  112439.0     Engineer\n",
      "2558  28.0    male      bachelor's                  5.0   84407.0     Engineer\n",
      "2559  36.0  female        master's                 13.0  139413.0     Engineer\n",
      "2562  24.0    male             phd                  1.0  106132.0      Manager\n",
      "2566  29.0    male      bachelor's                  6.0   88035.0     Engineer\n",
      "2567  33.0  female        master's                 10.0  119419.0    Developer\n",
      "2570  28.0    male      bachelor's                  4.0   71699.0    Developer\n",
      "2575  33.0  female        master's                  8.0  122581.0     Engineer\n",
      "2576  27.0    male     high school                  4.0   79767.0    Developer\n",
      "2578  26.0    male        master's                  4.0   89843.0     Engineer\n",
      "2579  31.0  female        master's                  6.0  113563.0     Engineer\n",
      "2580  35.0    male      bachelor's                 10.0  128712.0    Developer\n",
      "2582  32.0    male        master's                  8.0  121454.0     Engineer\n",
      "2584  26.0  female        master's                  3.0   72649.0    Developer\n",
      "2585  23.0    male             phd                  0.0   52612.0      Manager\n",
      "2588  30.0  female        master's                  5.0  102465.0     Engineer\n",
      "2591  36.0    male        master's                 13.0  146351.0     Engineer\n",
      "2593  31.0  female      bachelor's                  7.0  107718.0     Engineer\n",
      "2594  26.0    male        master's                  4.0   90944.0     Engineer\n",
      "2595  30.0  female        master's                  5.0  100425.0     Engineer\n",
      "2596  24.0    male      bachelor's                  2.0   63901.0    Developer\n",
      "2598  33.0  female        master's                  9.0  136533.0     Engineer\n",
      "2602  28.0  female      bachelor's                  4.0   70022.0     Engineer\n",
      "2603  30.0    male        master's                  6.0   99363.0    Developer\n",
      "2605  35.0    male      bachelor's                 10.0  123386.0    Developer\n",
      "2608  23.0    male     high school                  1.0   47898.0    Developer\n",
      "2611  29.0    male             phd                  6.0  106662.0      Manager\n",
      "2613  30.0  female      bachelor's                  6.0   89995.0     Engineer\n",
      "2614  26.0    male        master's                  4.0   85825.0     Engineer\n",
      "2618  27.0    male      bachelor's                  4.0   68732.0    Developer\n",
      "2622  29.0  female        master's                  5.0  102868.0     Engineer\n",
      "2624  31.0    male        master's                  8.0  111535.0    Developer\n",
      "2625  30.0  female        master's                  6.0  107906.0     Engineer\n",
      "2626  36.0    male      bachelor's                 13.0  143885.0     Engineer\n",
      "2628  28.0    male        master's                  6.0  108607.0     Engineer\n",
      "2630  27.0  female        master's                  4.0   75969.0    Developer\n",
      "2634  32.0  female        master's                  8.0  123781.0     Engineer\n",
      "2637  24.0  female      bachelor's                  1.0   61095.0    Developer\n",
      "2639  35.0  female        master's                 10.0  130355.0     Engineer\n",
      "2640  31.0    male      bachelor's                  7.0  103282.0    Developer\n",
      "2642  33.0    male        master's                 10.0  117314.0     Engineer\n",
      "2644  33.0  female        master's                 11.0  129686.0     Engineer\n",
      "2645  27.0    male     high school                  3.0   68611.0    Developer\n",
      "2647  26.0    male        master's                  3.0   68472.0     Engineer\n",
      "2648  31.0  female        master's                  6.0  113065.0     Engineer\n",
      "2649  35.0    male      bachelor's                  9.0  125091.0    Developer\n",
      "2651  32.0    male        master's                  9.0  126916.0     Engineer\n",
      "2653  26.0  female        master's                  4.0   76898.0    Developer\n",
      "2654  23.0    male             phd                  1.0     579.0      Manager\n",
      "2655  26.0  female      bachelor's                  2.0   65000.0     Engineer\n",
      "2656  33.0    male        master's                  8.0  120000.0      Analyst\n",
      "2657  29.0  female      bachelor's                  4.0   90000.0      Manager\n",
      "2659  35.0  female        master's                  9.0  140000.0     Engineer\n",
      "2660  28.0    male      bachelor's                  3.0   75000.0    Developer\n",
      "2662  33.0    male      bachelor's                  8.0  130000.0      Manager\n",
      "2663  24.0  female        master's                  2.0   60000.0     Engineer\n",
      "2665  29.0  female      bachelor's                  5.0   80000.0    Developer\n",
      "2666  31.0    male        master's                  7.0  130000.0    Scientist\n",
      "2667  27.0  female      bachelor's                  3.0   65000.0     Engineer\n",
      "2669  30.0  female        master's                  6.0  110000.0      Manager\n",
      "2670  25.0    male      bachelor's                  2.0   50000.0    Developer\n",
      "2672  33.0  female        master's                  8.0  100000.0      Analyst\n",
      "2673  22.0    male      bachelor's                  1.0   50000.0     Engineer\n",
      "2674  36.0    male        master's                 10.0  160000.0      Manager\n",
      "2675  28.0  female      bachelor's                  4.0   70000.0     Engineer\n",
      "2677  34.0  female        master's                  9.0  140000.0    Scientist\n",
      "2678  23.0    male      bachelor's                  1.0   45000.0    Developer\n",
      "2679  32.0  female        master's                  7.0  120000.0      Manager\n",
      "2680  25.0    male        master's                  2.0   60000.0     Engineer\n",
      "2682  28.0    male      bachelor's                  4.0   70000.0     Engineer\n",
      "2779  29.0  female      bachelor's                  6.0  103579.0     Engineer\n",
      "2781  36.0    male      bachelor's                 12.0  137878.0    Developer\n",
      "2782  30.0  female        master's                  4.0   92438.0     Engineer\n",
      "2783  28.0    male        master's                  5.0   84181.0     Engineer\n",
      "2785  34.0    male      bachelor's                 10.0  126520.0    Developer\n",
      "2788  35.0    male        master's                  9.0  131547.0     Engineer\n",
      "2790  23.0  female     high school                  1.0   52807.0    Developer\n",
      "2792  33.0  female      bachelor's                  8.0  124071.0     Engineer\n",
      "2793  26.0    male        master's                  3.0   73640.0    Developer\n",
      "2795  36.0    male        master's                 11.0  138859.0     Engineer\n",
      "2796  23.0  female      bachelor's                  0.0   52831.0     Engineer\n",
      "2798  35.0  female        master's                 11.0  151078.0     Engineer\n",
      "2799  31.0    male      bachelor's                  8.0  100679.0    Developer\n",
      "2802  33.0  female        master's                 10.0  113334.0     Engineer\n",
      "2804  28.0    male      bachelor's                  4.0   77606.0     Engineer\n",
      "2805  36.0  female        master's                 13.0  140010.0     Engineer\n",
      "2808  24.0    male             phd                  1.0  106686.0      Manager\n",
      "2812  29.0    male      bachelor's                  6.0   88552.0     Engineer\n",
      "2813  33.0  female        master's                  9.0  119918.0    Developer\n",
      "2816  28.0    male      bachelor's                  4.0   72389.0    Developer\n",
      "2821  33.0  female        master's                  8.0  122970.0     Engineer\n",
      "2822  27.0    male     high school                  4.0   80247.0    Developer\n",
      "2824  26.0    male        master's                  4.0   91062.0     Engineer\n",
      "2825  31.0  female        master's                  6.0  114290.0     Engineer\n",
      "2826  35.0    male      bachelor's                 10.0  128999.0    Developer\n",
      "2828  32.0    male        master's                  8.0  122354.0     Engineer\n",
      "2830  26.0  female        master's                  3.0   73218.0    Developer\n",
      "2834  30.0  female        master's                  5.0  102828.0     Engineer\n",
      "2837  36.0    male        master's                 13.0  147326.0     Engineer\n",
      "2839  31.0  female      bachelor's                  7.0  108267.0     Engineer\n",
      "2840  26.0    male        master's                  4.0   91397.0     Engineer\n",
      "2841  30.0  female        master's                  5.0  100867.0     Engineer\n",
      "2842  24.0    male      bachelor's                  2.0   64182.0    Developer\n",
      "2844  33.0  female        master's                  9.0  136986.0     Engineer\n",
      "2848  28.0  female      bachelor's                  3.0   70397.0     Engineer\n",
      "2849  34.0    male        master's                  9.0  146075.0      Manager\n",
      "2851  35.0    male        master's                  9.0  132638.0     Engineer\n",
      "2853  32.0    male      bachelor's                  7.0  106218.0     Engineer\n",
      "2855  26.0  female        master's                  2.0   65840.0    Developer\n",
      "2856  23.0    male             phd                  0.0   52779.0      Manager\n",
      "2859  30.0  female        master's                  6.0  110707.0     Engineer\n",
      "2862  36.0    male        master's                 13.0  146508.0     Engineer\n",
      "2864  31.0  female      bachelor's                  6.0  104378.0     Engineer\n",
      "2865  26.0    male        master's                  3.0   70216.0     Engineer\n",
      "2866  30.0  female        master's                  5.0  101733.0     Engineer\n",
      "2867  24.0    male      bachelor's                  1.0   55935.0    Developer\n",
      "2869  33.0  female        master's                  9.0  135596.0     Engineer\n",
      "3078  26.0    male        master's                  3.0   91397.0     Engineer\n",
      "3086  28.0  female      bachelor's                  4.0   82944.0     Engineer\n",
      "3088  36.0  female        master's                 14.0  141090.0     Engineer\n",
      "3090  33.0  female        master's                  9.0  124141.0    Developer\n",
      "3091  26.0    male      bachelor's                  3.0   67556.0    Developer\n",
      "3094  29.0  female      bachelor's                  6.0   91903.0     Engineer\n",
      "3097  31.0    male        master's                  8.0  120288.0     Engineer\n",
      "3099  35.0  female        master's                 11.0  134979.0     Engineer\n",
      "3101  27.0  female        master's                  4.0   83577.0     Engineer\n",
      "3102  33.0    male      bachelor's                  9.0  117904.0    Developer\n",
      "3103  36.0  female        master's                 11.0  134482.0     Engineer\n",
      "3105  30.0  female      bachelor's                  5.0  100151.0     Engineer\n",
      "3106  26.0    male        master's                  3.0   88678.0     Engineer\n",
      "3109  31.0  female      bachelor's                  7.0  108204.0     Engineer\n",
      "3111  28.0  female      bachelor's                  5.0   77766.0    Developer\n",
      "3113  36.0  female        master's                 13.0  144647.0     Engineer\n",
      "3115  33.0  female        master's                  9.0  121120.0    Developer\n",
      "3116  26.0    male      bachelor's                  4.0   79652.0     Engineer\n",
      "3118  27.0    male        master's                  5.0   87584.0    Developer\n",
      "3121  31.0  female        master's                  7.0  108799.0     Engineer\n",
      "3122  36.0    male      bachelor's                 13.0  135378.0     Engineer\n",
      "3125  28.0  female        master's                  4.0   82697.0     Engineer\n",
      "3127  36.0  female        master's                 12.0  130356.0     Engineer\n",
      "3129  33.0  female        master's                  9.0  121432.0    Developer\n",
      "3130  26.0    male      bachelor's                  2.0   63789.0    Developer\n",
      "3133  29.0  female      bachelor's                  6.0  100358.0     Engineer\n",
      "3137  28.0    male      bachelor's                  1.0   50000.0    Developer\n",
      "3138  32.0  female        master's                  5.0  100000.0      Manager\n",
      "3139  26.0    male      bachelor's                  2.0   60000.0     Engineer\n",
      "3140  33.0  female        master's                  6.0   90000.0      Analyst\n",
      "3141  29.0    male      bachelor's                  3.0   70000.0    Developer\n",
      "3143  36.0  female        master's                  8.0  130000.0    Scientist\n",
      "3144  27.0    male      bachelor's                  1.0   50000.0    Developer\n",
      "3145  34.0  female        master's                  7.0  120000.0      Manager\n",
      "3146  29.0    male      bachelor's                  4.0   80000.0     Engineer\n",
      "3150  36.0    male             phd                 12.0  170000.0     Director\n",
      "3261  30.0  female      bachelor's                  4.0   80000.0     Engineer\n",
      "3385  28.0    male        master's                  5.0   80000.0    Developer\n",
      "3386  30.0  female      bachelor's                  4.0   60000.0  Coordinator\n",
      "3389  33.0    male             phd                  9.0  120000.0     Director\n",
      "3390  22.0  female     high school                  0.0   40000.0   Generalist\n",
      "3391  36.0    male      bachelor's                 10.0  100000.0    Developer\n",
      "3392  29.0  female        master's                  4.0   75000.0   Generalist\n",
      "3394  27.0  female      bachelor's                  2.0   50000.0  Coordinator\n",
      "3396  24.0  female      bachelor's                  1.0   45000.0    Developer\n",
      "3397  31.0    male     high school                  4.0   55000.0    Developer\n",
      "3399  26.0    male      bachelor's                  2.0   50000.0   Generalist\n",
      "3400  32.0  female        master's                  7.0   80000.0   Generalist\n",
      "3401  32.0    male      bachelor's                  2.0   45000.0    Developer\n",
      "3402  24.0  female     high school                  1.0   32000.0   Generalist\n",
      "3404  29.0  female        master's                  4.0   65000.0    Developer\n",
      "3406  27.0  female        master's                  5.0   80000.0     Director\n",
      "3407  31.0  female     high school                  3.0   38000.0  Coordinator\n",
      "3409  26.0  female      bachelor's                  2.0   45000.0    Developer\n",
      "3410  36.0    male        master's                  7.0   89000.0   Generalist\n",
      "3411  28.0    male     high school                  1.0   32000.0   Generalist\n",
      "3412  33.0  female      bachelor's                  5.0   70000.0    Developer\n",
      "3414  25.0  female      bachelor's                  1.0   40000.0    Developer\n",
      "3416  30.0    male        master's                  4.0   65000.0    Developer\n",
      "3418  34.0    male      bachelor's                  3.0   50000.0    Developer\n",
      "3419  26.0  female     high school                  2.0   35000.0   Generalist\n",
      "3421  29.0  female        master's                  5.0   70000.0    Developer\n",
      "3422  35.0    male      bachelor's                  6.0   80000.0    Developer\n",
      "3423  27.0  female     high school                  1.0   30000.0  Coordinator\n",
      "3425  23.0  female      bachelor's                  1.0   40000.0    Developer\n",
      "3427  31.0    male     high school                  2.0   35000.0   Generalist\n",
      "3429  28.0    male        master's                  3.0   55000.0    Developer\n",
      "3430  32.0  female      bachelor's                  2.0   45000.0    Developer\n",
      "3432  26.0  female      bachelor's                  3.0   55000.0    Developer\n",
      "3434  27.0  female        master's                  4.0   70000.0   Generalist\n",
      "3435  33.0    male     high school                  3.0   38000.0  Coordinator\n",
      "3437  29.0    male      bachelor's                  2.0   45000.0    Developer\n",
      "3438  36.0  female        master's                  7.0   85000.0    Developer\n",
      "3439  30.0    male     high school                  1.0   32000.0   Generalist\n",
      "3441  34.0    male      bachelor's                  4.0   65000.0    Developer\n",
      "3442  25.0  female        master's                  1.0   32000.0   Generalist\n",
      "3444  24.0  female      bachelor's                  1.0   40000.0    Developer\n",
      "3448  28.0    male      bachelor's                  3.0   55000.0    Developer\n",
      "3449  32.0  female        master's                  6.0   80000.0      Manager\n",
      "3453  27.0  female     high school                  1.0   32000.0   Generalist\n",
      "3454  33.0    male      bachelor's                  5.0   70000.0    Developer\n",
      "3456  29.0    male        master's                  4.0   70000.0      Manager\n",
      "3458  30.0    male     high school                  2.0   33000.0  Coordinator\n",
      "3467  28.0    male      bachelor's                  4.0   65000.0    Developer\n",
      "3639  28.0    male      bachelor's                  3.0   60000.0     Engineer\n",
      "3642  31.0  female      bachelor's                  4.0   55000.0    Executive\n",
      "3643  24.0    male     high school                  1.0   30000.0    Associate\n",
      "3645  35.0    male      bachelor's                  8.0   90000.0      Manager\n",
      "3646  26.0  female        master's                  2.0   40000.0  Coordinator\n",
      "3648  34.0  female      bachelor's                  6.0   75000.0      Manager\n",
      "3649  27.0    male     high school                  2.0   35000.0    Associate\n",
      "3651  30.0    male      bachelor's                  4.0   65000.0     Engineer\n",
      "3653  25.0  female      bachelor's                  1.0   35000.0    Developer\n",
      "3655  33.0    male      bachelor's                  6.0   75000.0      Manager\n",
      "3656  29.0  female     high school                  1.0   30000.0    Associate\n",
      "3658  26.0    male      bachelor's                  3.0   60000.0    Developer\n",
      "3659  36.0  female        master's                  8.0   85000.0  Coordinator\n",
      "3660  31.0    male      bachelor's                  5.0   70000.0      Manager\n",
      "3661  27.0  female        master's                  3.0   50000.0    Executive\n",
      "3664  28.0    male     high school                  2.0   35000.0    Associate\n",
      "3666  31.0    male      bachelor's                  4.0   65000.0     Engineer\n",
      "3764  27.0    male      bachelor's                  3.0   60000.0     Engineer\n",
      "3767  30.0  female      bachelor's                  4.0   55000.0    Executive\n",
      "3768  23.0    male     high school                  1.0   30000.0    Associate\n",
      "3769  28.0  female        master's                  5.0   70000.0    Developer\n",
      "3770  34.0    male      bachelor's                  8.0   90000.0      Manager\n",
      "3771  25.0  female        master's                  2.0   40000.0  Coordinator\n",
      "3773  33.0  female      bachelor's                  6.0   75000.0      Manager\n",
      "3774  26.0    male     high school                  2.0   35000.0    Associate\n",
      "3776  29.0    male      bachelor's                  4.0   65000.0     Engineer\n",
      "3778  26.0  female      bachelor's                  1.0   35000.0    Developer\n",
      "3780  32.0    male      bachelor's                  6.0   75000.0      Manager\n",
      "3781  28.0  female     high school                  1.0   30000.0    Associate\n",
      "3783  27.0    male      bachelor's                  3.0   60000.0    Developer\n",
      "3784  35.0  female        master's                  8.0   85000.0  Coordinator\n",
      "3785  30.0    male      bachelor's                  5.0   70000.0      Manager\n",
      "3786  26.0  female        master's                  3.0   50000.0    Executive\n",
      "3889  24.0    male      bachelor's                  2.0   55000.0     Engineer\n",
      "3890  32.0  female        master's                  7.0   90000.0      Manager\n",
      "3892  28.0  female      bachelor's                  4.0   60000.0    Executive\n",
      "3893  22.0    male     high school                  1.0   25000.0    Associate\n",
      "3895  36.0    male      bachelor's                  8.0  100000.0      Manager\n",
      "3896  27.0  female      bachelor's                  3.0   45000.0  Coordinator\n",
      "3899  25.0    male     high school                  2.0   30000.0    Associate\n",
      "3905  33.0    male      bachelor's                  7.0   85000.0      Manager\n",
      "3906  29.0  female     high school                  1.0   25000.0    Associate\n",
      "3908  28.0    male      bachelor's                  3.0   60000.0    Developer\n",
      "3909  36.0  female        master's                  9.0  100000.0  Coordinator\n",
      "3910  31.0    male      bachelor's                  6.0   75000.0      Manager\n",
      "3914  26.0    male     high school                  2.0   30000.0    Associate\n",
      "4014  31.0    male      bachelor's                  5.0   80000.0     Engineer\n",
      "4015  27.0  female        master's                  3.0   60000.0      Manager\n",
      "4017  29.0  female      bachelor's                  2.0   45000.0    Executive\n",
      "4018  23.0    male     high school                  1.0   25000.0    Associate\n",
      "4019  32.0  female        master's                  7.0   90000.0    Developer\n",
      "4021  26.0  female      bachelor's                  2.0   40000.0  Coordinator\n",
      "4023  33.0  female      bachelor's                  8.0   95000.0      Manager\n",
      "4024  24.0    male     high school                  1.0   25000.0    Associate\n",
      "4025  35.0  female        master's                 10.0  110000.0      Manager\n",
      "4026  29.0    male      bachelor's                  4.0   70000.0     Engineer\n",
      "4028  26.0  female      bachelor's                  2.0   35000.0    Developer\n",
      "4030  36.0    male      bachelor's                  9.0  110000.0      Manager\n",
      "4031  28.0  female     high school                  1.0   25000.0    Associate\n",
      "4033  29.0    male      bachelor's                  5.0   80000.0    Developer\n",
      "4035  32.0    male      bachelor's                  6.0   90000.0      Manager\n",
      "4036  28.0  female        master's                  2.0   45000.0    Executive\n",
      "4139  34.0    male      bachelor's                  6.0   85000.0     Engineer\n",
      "4140  31.0  female        master's                  4.0   62000.0      Manager\n",
      "4142  27.0  female      bachelor's                  2.0   47000.0    Executive\n",
      "4143  25.0    male     high school                  1.0   26000.0    Associate\n",
      "4144  33.0  female        master's                  8.0   95000.0    Developer\n",
      "4146  28.0  female      bachelor's                  2.0   41000.0  Coordinator\n",
      "4148  34.0  female      bachelor's                  9.0   99000.0      Manager\n",
      "4149  23.0    male     high school                  1.0   26000.0    Associate\n",
      "4150  36.0  female        master's                 11.0  117000.0      Manager\n",
      "4151  30.0    male      bachelor's                  5.0   75000.0     Engineer\n",
      "4153  27.0  female      bachelor's                  2.0   36000.0    Developer\n",
      "4156  29.0  female     high school                  1.0   26000.0    Associate\n",
      "4158  30.0    male      bachelor's                  6.0   85000.0    Developer\n",
      "4160  33.0    male      bachelor's                  7.0   96000.0      Manager\n",
      "4161  29.0  female        master's                  3.0   49000.0    Executive\n",
      "4264  32.0  female        master's                  8.0   95000.0    Developer\n",
      "4267  24.0    male     high school                  1.0   26000.0    Associate\n",
      "4268  31.0  female        master's                  5.0   68000.0      Manager\n",
      "4270  25.0  female      bachelor's                  2.0   47000.0    Executive\n",
      "4272  35.0  female      bachelor's                  8.0   92000.0      Manager\n",
      "4273  26.0    male     high school                  1.0   26000.0    Associate\n",
      "4275  29.0    male      bachelor's                  4.0   71000.0     Engineer\n",
      "4277  28.0  female      bachelor's                  2.0   36000.0    Developer\n",
      "4280  30.0  female     high school                  1.0   26000.0    Associate\n",
      "4282  31.0    male      bachelor's                  6.0   85000.0    Developer\n",
      "4284  34.0    male      bachelor's                  8.0  101000.0      Manager\n",
      "4285  30.0  female        master's                  3.0   49000.0    Executive\n",
      "4389  27.0    male      bachelor's                  3.0   62000.0    Developer\n",
      "4391  35.0    male             phd                  9.0  112000.0    Scientist\n",
      "4393  33.0    male     high school                  1.0   25000.0    Associate\n",
      "4394  36.0  female      bachelor's                  7.0   91000.0      Manager\n",
      "4396  31.0  female      bachelor's                  5.0   74000.0     Engineer\n",
      "4398  28.0  female      bachelor's                  2.0   37000.0    Developer\n",
      "4401  30.0  female     high school                  1.0   25000.0    Associate\n",
      "4403  27.0  female      bachelor's                  3.0   61000.0    Developer\n",
      "4405  35.0  female        master's                  8.0   92000.0      Manager\n",
      "4406  26.0    male      bachelor's                  1.0   52000.0     Engineer\n",
      "4407  30.0  female      bachelor's                  4.0   58000.0  Coordinator\n",
      "4409  32.0  female        master's                  6.0   77000.0      Manager\n",
      "4410  34.0    male      bachelor's                  8.0  104000.0      Manager\n",
      "4411  31.0  female     high school                  1.0   25000.0    Associate\n",
      "4515  31.0  female        master's                  6.0   95000.0     Director\n",
      "4516  28.0    male      bachelor's                  2.0   45000.0    Developer\n",
      "4517  29.0  female        master's                  4.0   70000.0   Generalist\n",
      "4518  35.0    male             phd                 10.0  110000.0      Manager\n",
      "4519  26.0  female     high school                  1.0   35000.0    Developer\n",
      "4520  32.0    male      bachelor's                  5.0   60000.0   Generalist\n",
      "4521  27.0  female        master's                  2.0   50000.0    Developer\n",
      "4523  23.0  female      bachelor's                  1.0   32000.0   Generalist\n",
      "4524  30.0    male      bachelor's                  4.0   65000.0    Developer\n",
      "4525  26.0  female      bachelor's                  1.0   35000.0  Coordinator\n",
      "4527  34.0  female        master's                  9.0   95000.0     Director\n",
      "4528  28.0    male     high school                  2.0   43000.0   Generalist\n",
      "4530  29.0    male      bachelor's                  3.0   60000.0    Developer\n",
      "4531  35.0  female        master's                  8.0   80000.0   Generalist\n",
      "4532  26.0    male        master's                  2.0   48000.0    Developer\n",
      "4534  34.0    male      bachelor's                  7.0   85000.0    Developer\n",
      "4535  26.0  female      bachelor's                  2.0   42000.0   Generalist\n",
      "4536  29.0    male        master's                  4.0   70000.0   Generalist\n",
      "4537  25.0  female     high school                  1.0   32000.0  Coordinator\n",
      "4538  33.0    male        master's                  6.0   80000.0    Developer\n",
      "4539  27.0  female      bachelor's                  2.0   42000.0   Generalist\n",
      "4540  31.0    male             phd                  7.0   90000.0      Manager\n",
      "4544  34.0    male        master's                 10.0  105000.0     Director\n",
      "4545  28.0  female      bachelor's                  3.0   50000.0   Generalist\n",
      "4546  33.0    male             phd                  8.0   95000.0     Director\n",
      "4547  29.0  female      bachelor's                  3.0   60000.0    Developer\n",
      "4548  25.0    male     high school                  2.0   40000.0   Generalist\n",
      "4549  26.0  female        master's                  2.0   55000.0   Generalist\n",
      "4550  30.0    male      bachelor's                  5.0   70000.0    Developer\n",
      "4551  24.0  female     high school                  1.0   32000.0  Coordinator\n",
      "4552  31.0    male        master's                  7.0   90000.0     Director\n",
      "4553  27.0  female      bachelor's                  2.0   50000.0    Developer\n",
      "4555  26.0  female      bachelor's                  1.0   32000.0   Generalist\n",
      "4556  32.0    male        master's                  6.0   80000.0    Developer\n",
      "4558  25.0    male     high school                  2.0   45000.0    Developer\n",
      "4559  33.0  female      bachelor's                  7.0   65000.0   Generalist\n",
      "4560  27.0    male        master's                  2.0   50000.0    Developer\n",
      "4561  28.0  female      bachelor's                  3.0   45000.0  Coordinator\n",
      "4562  34.0    male             phd                  9.0   95000.0     Director\n",
      "4563  30.0  female      bachelor's                  4.0   65000.0    Developer\n",
      "4564  26.0    male      bachelor's                  2.0   38000.0  Coordinator\n",
      "4566  34.0    male        master's                  8.0   90000.0    Developer\n",
      "4567  28.0  female     high school                  2.0   43000.0   Generalist\n",
      "4568  31.0    male      bachelor's                  5.0   60000.0   Generalist\n",
      "4569  29.0  female        master's                  3.0   60000.0    Developer\n",
      "4572  32.0    male        master's                  6.0   95000.0     Director\n",
      "4573  27.0  female        master's                  2.0   42000.0   Generalist\n",
      "4575  23.0  female      bachelor's                  1.0   32000.0  Coordinator\n",
      "4580  28.0    male     high school                  2.0   43000.0    Developer\n",
      "4633  31.0  female      bachelor's                  4.0     500.0  Coordinator\n",
      "4634  27.0  female      bachelor's                  1.0   45000.0     Engineer\n",
      "4635  33.0    male        master's                  8.0  120000.0    Scientist\n",
      "4636  29.0  female      bachelor's                  3.0   55000.0  Coordinator\n",
      "4639  25.0    male     high school                  1.0   30000.0    Associate\n",
      "4640  32.0  female        master's                  7.0  100000.0     Engineer\n",
      "4641  27.0    male      bachelor's                  2.0   50000.0      Analyst\n",
      "4642  29.0  female      bachelor's                  3.0   55000.0      Manager\n",
      "4643  35.0    male             phd                 10.0  130000.0    Scientist\n",
      "4644  26.0  female      bachelor's                  1.0   45000.0     Engineer\n",
      "4755  28.0  female      bachelor's                  2.0   48000.0     Engineer\n",
      "4756  36.0    male        master's                  9.0  125000.0    Scientist\n",
      "4757  30.0  female      bachelor's                  4.0   57000.0  Coordinator\n",
      "4758  32.0    male      bachelor's                  6.0   72000.0      Manager\n",
      "4760  26.0    male     high school                  2.0   31000.0    Associate\n",
      "4761  33.0  female        master's                  8.0  105000.0     Engineer\n",
      "4762  28.0    male      bachelor's                  3.0   52000.0      Analyst\n",
      "4763  30.0  female      bachelor's                  4.0   57000.0      Manager\n",
      "4764  36.0    male             phd                 11.0  135000.0    Scientist\n",
      "4765  27.0  female      bachelor's                  2.0   48000.0     Engineer\n",
      "4766  34.0    male        master's                  9.0  125000.0    Scientist\n",
      "4876  26.0    male      bachelor's                  5.0   85000.0      Manager\n",
      "4877  28.0  female        master's                  7.0  110000.0      Manager\n",
      "4878  34.0    male             phd                 12.0  170000.0     Director\n",
      "4879  31.0    male      bachelor's                  9.0  140000.0     Director\n",
      "4880  24.0  female     high school                  1.0   30000.0    Associate\n",
      "4881  29.0    male      bachelor's                  6.0   95000.0      Manager\n",
      "4882  27.0  female        master's                  4.0   80000.0      Manager\n",
      "4883  33.0    male             phd                 10.0  155000.0     Director\n",
      "4884  21.0  female     high school                  0.0   25000.0          Rep\n",
      "4885  36.0    male      bachelor's                 11.0  160000.0      Manager\n",
      "4886  25.0  female      bachelor's                  3.0   65000.0      Manager\n",
      "4887  30.0    male        master's                  7.0  120000.0      Manager\n",
      "4888  28.0  female             phd                  6.0  105000.0     Director\n",
      "5000  22.0  female     high school                  0.0   25000.0    Associate\n",
      "5002  31.0  female        master's                  8.0  120000.0      Manager\n",
      "5003  28.0    male      bachelor's                  4.0   80000.0      Manager\n",
      "5004  29.0    male      bachelor's                  6.0  100000.0      Manager\n",
      "5005  35.0  female             phd                 12.0  170000.0     Director\n",
      "5006  27.0    male     high school                  3.0   50000.0          Rep\n",
      "5007  33.0  female      bachelor's                  9.0  140000.0      Manager\n",
      "5009  25.0  female      bachelor's                  2.0   55000.0      Manager\n",
      "5011  29.0  female        master's                  4.0   80000.0      Manager\n",
      "5124  23.0    male      bachelor's                  1.0   60000.0     Engineer\n",
      "5126  28.0    male      bachelor's                  4.0   80000.0      Analyst\n",
      "5127  31.0  female             phd                  8.0  120000.0    Scientist\n",
      "5128  35.0    male      bachelor's                 10.0  130000.0      Manager\n",
      "5129  27.0  female      bachelor's                  2.0   50000.0     Designer\n",
      "5131  29.0  female      bachelor's                  3.0   60000.0   Specialist\n",
      "5132  33.0    male      bachelor's                  7.0  110000.0      Manager\n",
      "5133  24.0  female     high school                  0.0   25000.0    Associate\n",
      "5134  30.0    male        master's                  6.0  100000.0      Analyst\n",
      "5135  26.0  female      bachelor's                  3.0   55000.0      Manager\n",
      "5136  32.0    male             phd                  9.0  140000.0    Scientist\n",
      "5137  22.0  female     high school                  0.0   25000.0        Other\n",
      "5140  25.0    male      bachelor's                  1.0   55000.0     Engineer\n",
      "5141  29.0  female      bachelor's                  4.0   65000.0  Coordinator\n",
      "5142  27.0    male      bachelor's                  3.0   60000.0     Designer\n",
      "5143  34.0  female             phd                 10.0  150000.0     Director\n",
      "5144  26.0    male      bachelor's                  2.0   50000.0      Analyst\n",
      "5145  31.0  female        master's                  7.0  120000.0      Manager\n",
      "5248  28.0    male      bachelor's                  3.0   85000.0     Engineer\n",
      "5249  36.0  female        master's                 11.0  160000.0     Director\n",
      "5250  25.0    male      bachelor's                  1.0   55000.0      Analyst\n",
      "5251  29.0  female             phd                  5.0  100000.0    Scientist\n",
      "5252  33.0    male      bachelor's                  8.0  120000.0      Manager\n",
      "5255  30.0  female      bachelor's                  4.0   65000.0   Specialist\n",
      "5256  34.0    male      bachelor's                  9.0  130000.0      Manager\n",
      "5257  25.0  female     high school                  0.0   25000.0    Associate\n",
      "5258  31.0    male        master's                  6.0  100000.0      Analyst\n",
      "5259  27.0  female      bachelor's                  3.0   55000.0      Manager\n",
      "5260  33.0    male             phd                 10.0  150000.0    Scientist\n",
      "5261  23.0  female     high school                  0.0   25000.0        Other\n",
      "5264  26.0    male      bachelor's                  1.0   55000.0     Engineer\n",
      "5265  30.0  female      bachelor's                  4.0   65000.0  Coordinator\n",
      "5266  28.0    male      bachelor's                  3.0   60000.0     Designer\n",
      "5267  35.0  female             phd                 11.0  160000.0     Director\n",
      "5269  32.0  female        master's                  8.0  120000.0      Manager\n",
      "5373  27.0    male      bachelor's                  3.0   85000.0     Engineer\n",
      "5374  35.0  female        master's                 11.0  160000.0     Director\n",
      "5375  24.0    male      bachelor's                  1.0   55000.0      Analyst\n",
      "5376  28.0  female             phd                  5.0  100000.0    Scientist\n",
      "5377  32.0    male      bachelor's                  8.0  120000.0      Manager\n",
      "5378  26.0  female      bachelor's                  2.0   50000.0     Designer\n",
      "5380  29.0  female      bachelor's                  4.0   65000.0   Specialist\n",
      "5381  33.0    male      bachelor's                  9.0  130000.0      Manager\n",
      "5385  32.0    male             phd                 10.0  150000.0    Scientist\n",
      "5389  27.0    male      bachelor's                  1.0   55000.0     Engineer\n",
      "5390  31.0  female      bachelor's                  4.0   65000.0  Coordinator\n",
      "5391  29.0    male      bachelor's                  3.0   60000.0     Designer\n",
      "5392  34.0  female             phd                 11.0  160000.0     Director\n",
      "5496  26.0  female      bachelor's                  7.0  100000.0    Executive\n",
      "5497  31.0    male      bachelor's                  7.0  120000.0     Engineer\n",
      "5499  33.0    male        master's                  9.0  130000.0      Manager\n",
      "5500  29.0  female     high school                  3.0   35000.0          Rep\n",
      "5501  36.0    male             phd                 13.0  160000.0    Scientist\n",
      "5503  31.0    male      bachelor's                  6.0  100000.0      Manager\n",
      "5504  28.0  female        master's                  4.0   80000.0      Analyst\n",
      "5505  25.0    male      bachelor's                  1.0   60000.0     Engineer\n",
      "5506  30.0  female      bachelor's                  5.0   90000.0      Manager\n",
      "5507  34.0    male             phd                 11.0  170000.0     Director\n",
      "5508  28.0  female      bachelor's                  3.0   60000.0      Analyst\n",
      "5509  32.0    male      bachelor's                  7.0  120000.0      Manager\n",
      "5510  24.0  female     high school                  0.0   25000.0        Other\n",
      "5513  26.0    male      bachelor's                  2.0   50000.0     Designer\n",
      "5514  31.0  female             phd                  8.0  140000.0    Scientist\n",
      "5515  29.0    male      bachelor's                  4.0   70000.0      Analyst\n",
      "5516  33.0  female        master's                  9.0  130000.0      Manager\n",
      "5517  27.0    male      bachelor's                  3.0   80000.0     Engineer\n",
      "5518  36.0  female             phd                 12.0  160000.0    Scientist\n",
      "5519  25.0    male      bachelor's                  1.0   55000.0      Manager\n",
      "5520  30.0  female      bachelor's                  5.0   85000.0  Coordinator\n",
      "5624  28.0  female      bachelor's                  3.0   60000.0  Coordinator\n",
      "5625  33.0    male        master's                  9.0  120000.0     Engineer\n",
      "5626  26.0  female      bachelor's                  1.0   45000.0     Designer\n",
      "5627  29.0    male      bachelor's                  5.0   80000.0      Manager\n",
      "5628  35.0  female             phd                 11.0  150000.0    Scientist\n",
      "5629  27.0    male      bachelor's                  2.0   65000.0     Engineer\n",
      "5630  31.0  female      bachelor's                  7.0  100000.0      Manager\n",
      "5631  28.0    male        master's                  4.0   90000.0      Analyst\n",
      "5632  24.0  female      bachelor's                  0.0   40000.0      Analyst\n",
      "5633  30.0    male      bachelor's                  6.0  110000.0      Manager\n",
      "5634  34.0  female             phd                 12.0  170000.0     Director\n",
      "5635  27.0    male      bachelor's                  3.0   75000.0     Engineer\n",
      "5636  33.0  female        master's                  8.0  120000.0      Manager\n",
      "5638  25.0  female     high school                  1.0   30000.0          Rep\n",
      "5639  36.0    male             phd                 13.0  180000.0    Scientist\n",
      "5641  26.0    male      bachelor's                  1.0   50000.0     Designer\n",
      "5643  28.0    male      bachelor's                  3.0   65000.0      Analyst\n",
      "5644  32.0  female      bachelor's                  7.0  110000.0      Manager\n",
      "5645  24.0    male     high school                  0.0   28000.0        Other\n",
      "5648  26.0    male      bachelor's                  2.0   55000.0     Designer\n",
      "5653  36.0  female             phd                 12.0  170000.0    Scientist\n",
      "5654  25.0    male      bachelor's                  1.0   60000.0      Manager\n",
      "5655  30.0  female      bachelor's                  5.0   90000.0  Coordinator\n",
      "5656  34.0    male             phd                 11.0  160000.0     Director\n",
      "5751  29.0    male      bachelor's                  3.0   75000.0     Engineer\n",
      "5753  27.0    male      bachelor's                  2.0   65000.0      Manager\n",
      "5754  30.0  female             phd                  6.0  100000.0    Scientist\n",
      "5755  36.0    male      bachelor's                 11.0  150000.0      Analyst\n",
      "5878  27.0    male             phd                  7.0  120000.0  Coordinator\n",
      "5880  33.0    male        master's                  8.0  120000.0     Engineer\n",
      "5881  27.0  female      bachelor's                  2.0   65000.0      Manager\n",
      "5882  30.0    male             phd                  6.0  100000.0    Scientist\n",
      "5883  36.0  female      bachelor's                 11.0  150000.0      Analyst\n",
      "5884  29.0    male      bachelor's                  3.0   65000.0      Analyst\n",
      "5885  32.0  female        master's                  9.0  120000.0     Engineer\n",
      "5886  26.0    male      bachelor's                  1.0   45000.0     Designer\n",
      "5887  29.0  female      bachelor's                  5.0   80000.0      Manager\n",
      "5888  35.0    male             phd                 11.0  150000.0    Scientist\n",
      "6007  34.0    male        master's                  9.0  125000.0     Engineer\n",
      "6008  28.0  female      bachelor's                  3.0   70000.0      Manager\n",
      "6009  31.0    male             phd                  7.0  110000.0    Scientist\n",
      "6011  30.0    male      bachelor's                  4.0   75000.0      Analyst\n",
      "6012  33.0  female        master's                  8.0  120000.0     Engineer\n",
      "6013  27.0    male      bachelor's                  2.0   50000.0     Designer\n",
      "6014  30.0  female      bachelor's                  5.0   85000.0      Manager\n",
      "6015  36.0    male             phd                 11.0  155000.0    Scientist\n",
      "6016  28.0    male      bachelor's                  3.0   70000.0     Engineer\n",
      "6017  32.0  female      bachelor's                  8.0  115000.0      Manager\n",
      "6018  29.0    male        master's                  5.0   95000.0      Analyst\n",
      "6019  25.0  female      bachelor's                  0.0   40000.0      Analyst\n",
      "6020  31.0    male      bachelor's                  6.0  115000.0      Manager\n",
      "6021  35.0  female             phd                 12.0  175000.0     Director\n",
      "6023  33.0  female        master's                  9.0  135000.0      Manager\n",
      "6024  29.0    male      bachelor's                  4.0   75000.0      Analyst\n",
      "6026  36.0    male             phd                 13.0  185000.0    Scientist\n",
      "6028  27.0    male      bachelor's                  1.0   45000.0     Designer\n",
      "6029  32.0  female             phd                  9.0  145000.0    Scientist\n",
      "6030  28.0    male      bachelor's                  3.0   70000.0      Analyst\n",
      "6031  32.0  female      bachelor's                  7.0  120000.0      Manager\n",
      "6035  27.0    male      bachelor's                  2.0   55000.0     Designer\n",
      "6040  36.0  female             phd                 13.0  185000.0    Scientist\n",
      "6042  30.0  female      bachelor's                  5.0   95000.0  Coordinator\n",
      "6044  28.0  female      bachelor's                  3.0   65000.0      Analyst\n",
      "6133  26.0  female        master's                  2.0   75000.0     Engineer\n",
      "6137  35.0  female        master's                 10.0  145000.0    Scientist\n",
      "6139  33.0  female        master's                  8.0  135000.0      Manager\n",
      "6140  27.0    male      bachelor's                  2.0   70000.0     Engineer\n",
      "6141  36.0  female             phd                 12.0  175000.0     Director\n",
      "6260  29.0    male      bachelor's                  2.0   45000.0    Associate\n",
      "6263  23.0  female     high school                  1.0   35000.0    Executive\n",
      "6265  26.0  female      bachelor's                  4.0   60000.0      Manager\n",
      "6266  33.0    male        master's                  5.0   70000.0      Manager\n",
      "6267  28.0  female     high school                  3.0   40000.0          Rep\n",
      "6269  35.0  female      bachelor's                  2.0   35000.0          Rep\n",
      "6271  27.0  female      bachelor's                  1.0   35000.0    Associate\n",
      "6273  31.0  female     high school                  4.0   60000.0      Manager\n",
      "6274  36.0    male      bachelor's                  6.0   75000.0      Manager\n",
      "6275  25.0  female        master's                  3.0   50000.0      Manager\n",
      "6277  30.0  female     high school                  2.0   40000.0    Executive\n",
      "6279  29.0  female        master's                  4.0   55000.0          Rep\n",
      "6281  32.0  female      bachelor's                  3.0   40000.0          Rep\n",
      "6283  24.0  female     high school                  1.0   35000.0    Associate\n",
      "6285  34.0  female      bachelor's                  5.0   70000.0      Manager\n",
      "6286  26.0    male        master's                  3.0   50000.0      Manager\n",
      "6287  31.0  female             phd                  6.0   75000.0      Manager\n",
      "6288  27.0    male     high school                  2.0   40000.0    Executive\n",
      "6290  28.0    male        master's                  2.0   40000.0          Rep\n",
      "6292  33.0    male      bachelor's                  4.0   55000.0          Rep\n",
      "6294  25.0    male     high school                  1.0   35000.0    Associate\n",
      "6296  35.0    male             phd                  7.0   90000.0      Manager\n",
      "6297  23.0  female      bachelor's                  1.0   35000.0    Executive\n",
      "6300  32.0    male        master's                  5.0   70000.0      Manager\n",
      "6301  27.0  female     high school                  3.0   40000.0          Rep\n",
      "6303  36.0  female      bachelor's                  2.0   35000.0          Rep\n",
      "6305  31.0  female     high school                  2.0   40000.0    Associate\n",
      "6306  29.0    male      bachelor's                  6.0   75000.0     Director\n",
      "6308  25.0    male        master's                  3.0   50000.0      Manager\n",
      "6310  23.0    male     high school                  1.0   35000.0    Executive\n",
      "6312  26.0    male        master's                  3.0   45000.0          Rep\n",
      "6313  33.0  female             phd                  5.0   70000.0      Manager\n",
      "6314  28.0    male      bachelor's                  1.0   30000.0          Rep\n",
      "6316  27.0    male     high school                  4.0   60000.0      Manager\n",
      "6318  35.0    male             phd                  8.0   80000.0      Manager\n",
      "6319  24.0  female      bachelor's                  1.0   35000.0    Executive\n",
      "6321  29.0  female     high school                  2.0   40000.0          Rep\n",
      "6323  31.0  female      bachelor's                  3.0   40000.0          Rep\n",
      "6325  25.0  female     high school                  1.0   35000.0    Associate\n",
      "6328  27.0    male        master's                  3.0   50000.0      Manager\n",
      "6330  28.0    male     high school                  2.0   40000.0    Executive\n",
      "6331  31.0    male      bachelor's                  3.0   50000.0    Associate\n",
      "6335  24.0    male             phd                  1.0   30000.0      Manager\n",
      "6336  33.0  female        master's                  6.0   75000.0      Manager\n",
      "6337  29.0    male     high school                  2.0   40000.0          Rep\n",
      "6342  26.0  female     high school                  3.0   45000.0      Manager\n",
      "6343  32.0    male      bachelor's                  7.0   90000.0     Director\n",
      "6344  27.0  female             phd                  4.0   55000.0      Manager\n",
      "6346  28.0  female      bachelor's                  2.0   40000.0          Rep\n",
      "6348  31.0  female     high school                  3.0   40000.0          Rep\n",
      "6352  33.0  female             phd                  6.0   75000.0      Manager\n",
      "6357  36.0    male      bachelor's                  5.0   70000.0          Rep\n",
      "6359  31.0    male     high school                  3.0   40000.0          Rep\n",
      "6360  29.0  female      bachelor's                  6.0   75000.0     Director\n",
      "6364  35.0  female             phd                  8.0   80000.0      Manager\n",
      "6365  23.0    male      bachelor's                  1.0   35000.0    Executive\n",
      "6367  26.0    male     high school                  2.0   40000.0      Manager\n",
      "6368  32.0  female      bachelor's                  7.0   90000.0      Manager\n",
      "6369  27.0    male             phd                  4.0   55000.0          Rep\n",
      "6371  36.0    male      bachelor's                  3.0   45000.0          Rep\n",
      "6373  31.0    male     high school                  3.0   50000.0    Associate\n",
      "6374  29.0  female      bachelor's                  4.0   55000.0      Manager\n",
      "6376  25.0  female     high school                  1.0   35000.0    Executive\n",
      "6378  35.0  female             phd                  9.0   95000.0      Manager\n",
      "6379  23.0    male      bachelor's                  1.0   35000.0          Rep\n",
      "6382  32.0  female      bachelor's                  8.0   80000.0     Director\n",
      "6383  27.0    male             phd                  4.0   55000.0      Manager\n",
      "6385  36.0    male      bachelor's                  6.0   75000.0     Director\n",
      "6457  26.0  female      bachelor's                  2.0   40000.0          Rep\n",
      "6459  33.0  female     high school                  4.0   55000.0    Executive\n",
      "6460  29.0    male      bachelor's                  5.0   70000.0      Manager\n",
      "6462  24.0    male     high school                  1.0   35000.0    Associate\n",
      "6465  27.0  female        master's                  3.0   50000.0      Manager\n",
      "6467  28.0  female     high school                  2.0   40000.0          Rep\n",
      "6469  35.0  female      bachelor's                  7.0   90000.0    Executive\n",
      "6470  23.0    male      bachelor's                  1.0   35000.0      Manager\n",
      "6472  26.0    male     high school                  3.0   45000.0      Manager\n",
      "6476  36.0    male      bachelor's                  6.0   75000.0          Rep\n",
      "6479  29.0  female      bachelor's                  5.0   70000.0     Director\n",
      "6581  27.0  female      bachelor's                  3.0   45000.0          Rep\n",
      "6583  34.0  female     high school                  5.0   70000.0    Executive\n",
      "6584  30.0    male      bachelor's                  6.0   75000.0      Manager\n",
      "6588  32.0    male             phd                  8.0   80000.0      Manager\n",
      "6589  28.0  female        master's                  4.0   55000.0      Manager\n",
      "6593  36.0  female      bachelor's                  8.0   80000.0    Executive\n",
      "6594  24.0    male      bachelor's                  1.0   35000.0      Manager\n",
      "6596  27.0    male     high school                  3.0   45000.0      Manager\n",
      "6597  33.0  female      bachelor's                  7.0   90000.0     Director\n",
      "6598  28.0    male             phd                  4.0   55000.0      Manager\n",
      "6602  32.0    male     high school                  3.0   40000.0          Rep\n",
      "6603  30.0  female      bachelor's                  5.0   70000.0     Director\n",
      "6605  26.0  female     high school                  1.0   35000.0    Associate\n",
      "6607  36.0  female             phd                  9.0   95000.0      Manager\n",
      "6608  24.0    male      bachelor's                  1.0   35000.0    Executive\n",
      "6610  27.0    male     high school                  2.0   40000.0      Manager\n",
      "6611  33.0  female      bachelor's                  7.0   90000.0      Manager\n",
      "6612  28.0    male             phd                  4.0   55000.0          Rep\n",
      "6616  32.0    male     high school                  3.0   50000.0    Associate\n",
      "6619  26.0  female     high school                  1.0   35000.0    Executive\n",
      "6621  36.0  female             phd                 10.0  100000.0      Manager\n",
      "6622  24.0    male      bachelor's                  1.0   35000.0          Rep\n",
      "6625  33.0  female      bachelor's                  8.0   80000.0     Director\n",
      "6631  30.0  female      bachelor's                  5.0   70000.0      Manager\n"
     ]
    }
   ],
   "source": [
    "while True:\n",
    "    Q1 = data_sin_outliers['Age'].quantile(0.25)\n",
    "    Q3 = data_sin_outliers['Age'].quantile(0.75)\n",
    "    IQR = Q3 - Q1\n",
    "\n",
    "    bigotes_superior =  (Q1 + 1.5 * IQR)\n",
    "    bigotes_inferior =  (Q1 - 1.5 * IQR)\n",
    "\n",
    "    ubicacion_outliers =  (data_sin_outliers['Age'] < bigotes_inferior) | (data_sin_outliers['Age'] > bigotes_superior )\n",
    "    \n",
    "    if ubicacion_outliers.sum() == 0:\n",
    "        # No quedan outliers, detener el proceso\n",
    "        break\n",
    "    \n",
    "    # Eliminar los outliers y actualizar el DataFrame\n",
    "    data_sin_outliers = data_sin_outliers[~ubicacion_outliers]\n",
    "\n",
    "print(\"\\nDatos sin outliers:\\n\", data_sin_outliers)"
   ]
  },
  {
   "cell_type": "code",
   "execution_count": 37,
   "metadata": {},
   "outputs": [
    {
     "data": {
      "image/png": "[encoded data removed]",
      "text/plain": [
       "<Figure size 640x480 with 1 Axes>"
      ]
     },
     "metadata": {},
     "output_type": "display_data"
    }
   ],
   "source": [
    "plt.boxplot(data_sin_outliers['Age'])\n",
    "plt.ylabel('Valores')\n",
    "plt.show()"
   ]
  },
  {
   "cell_type": "markdown",
   "metadata": {},
   "source": [
    "### Prueba con los outliers intáctos"
   ]
  },
  {
   "cell_type": "markdown",
   "metadata": {},
   "source": [
    "#### Edad"
   ]
  },
  {
   "cell_type": "code",
   "execution_count": 38,
   "metadata": {},
   "outputs": [
    {
     "data": {
      "text/plain": [
       "count    1731.000000\n",
       "mean       35.173888\n",
       "std         8.217726\n",
       "min        21.000000\n",
       "25%        29.000000\n",
       "50%        33.000000\n",
       "75%        41.000000\n",
       "max        62.000000\n",
       "Name: Age, dtype: float64"
      ]
     },
     "execution_count": 38,
     "metadata": {},
     "output_type": "execute_result"
    }
   ],
   "source": [
    "data['Age'].describe()"
   ]
  },
  {
   "cell_type": "markdown",
   "metadata": {},
   "source": [
    "## Etapa 5 Analisis"
   ]
  },
  {
   "cell_type": "code",
   "execution_count": 39,
   "metadata": {},
   "outputs": [
    {
     "data": {
      "text/plain": [
       "Index(['Age', 'Gender', 'Education_Level', 'Years_of_Experience', 'Salary',\n",
       "       'Job_Title'],\n",
       "      dtype='object')"
      ]
     },
     "execution_count": 39,
     "metadata": {},
     "output_type": "execute_result"
    }
   ],
   "source": [
    "data.columns"
   ]
  },
  {
   "cell_type": "code",
   "execution_count": 40,
   "metadata": {},
   "outputs": [],
   "source": [
    "grupo_genero = data['Gender']\n",
    "grupo_edad = data['Age']\n",
    "grupo_salario = data['Salary']\n",
    "grupo_tipo_trabajo = data['Job_Title']"
   ]
  },
  {
   "cell_type": "markdown",
   "metadata": {},
   "source": [
    "### Cantidad de personas por género"
   ]
  },
  {
   "cell_type": "code",
   "execution_count": 41,
   "metadata": {},
   "outputs": [
    {
     "data": {
      "image/png": "[encoded data removed]",
      "text/plain": [
       "<Figure size 640x480 with 1 Axes>"
      ]
     },
     "metadata": {},
     "output_type": "display_data"
    }
   ],
   "source": [
    "bar1=data.Gender.value_counts()\n",
    "bar1.plot(kind='bar')\n",
    "plt.title(\"Cantidad de personas según el género\")\n",
    "plt.show()"
   ]
  },
  {
   "cell_type": "code",
   "execution_count": 42,
   "metadata": {},
   "outputs": [
    {
     "data": {
      "image/png": "[encoded data removed]",
      "text/plain": [
       "<Figure size 640x480 with 1 Axes>"
      ]
     },
     "metadata": {},
     "output_type": "display_data"
    }
   ],
   "source": [
    "bar1=data['Education_Level'].value_counts()\n",
    "bar1.plot(kind='pie', autopct=\"%1.1f%%\")\n",
    "plt.title(\"Cantidad de personas por nivel educativo\")\n",
    "plt.show()"
   ]
  },
  {
   "cell_type": "markdown",
   "metadata": {},
   "source": [
    "### Cantidad de personas por trabajo"
   ]
  },
  {
   "cell_type": "code",
   "execution_count": 43,
   "metadata": {},
   "outputs": [],
   "source": [
    "f = data.groupby('Gender')['Job_Title']\n",
    "trabajos_por_genero = f.count()\n"
   ]
  },
  {
   "cell_type": "code",
   "execution_count": 44,
   "metadata": {},
   "outputs": [
    {
     "data": {
      "image/png": "[encoded data removed]",
      "text/plain": [
       "<Figure size 800x600 with 1 Axes>"
      ]
     },
     "metadata": {},
     "output_type": "display_data"
    }
   ],
   "source": [
    "plt.figure(figsize=(8, 6))  # Ajusta el tamaño de la figura si lo deseas\n",
    "\n",
    "# Crear la gráfica de barras horizontales\n",
    "trabajos_por_genero.plot(kind='barh', color='skyblue')\n",
    "\n",
    "# Ajustar los títulos y etiquetas\n",
    "plt.title('Cantidad de trabajos por género')\n",
    "plt.xlabel('Cantidad de trabajos')\n",
    "plt.ylabel('Género')\n",
    "\n",
    "# Mostrar la gráfica\n",
    "plt.show()"
   ]
  },
  {
   "cell_type": "markdown",
   "metadata": {},
   "source": [
    "### Trabajo mejor pagado"
   ]
  },
  {
   "cell_type": "code",
   "execution_count": 45,
   "metadata": {},
   "outputs": [
    {
     "data": {
      "text/plain": [
       "Job_Title\n",
       "Director     220000.0\n",
       "Engineer     210000.0\n",
       "Executive    250000.0\n",
       "Manager      250000.0\n",
       "Officer      250000.0\n",
       "Scientist    240000.0\n",
       "Name: Salary, dtype: float64"
      ]
     },
     "execution_count": 45,
     "metadata": {},
     "output_type": "execute_result"
    }
   ],
   "source": [
    "b = data.groupby('Job_Title')['Salary'].max()\n",
    "\n",
    "mayor_salario = b > 200000\n",
    "trabajos_mayor_salario = b[mayor_salario]\n",
    "trabajos_mayor_salario"
   ]
  },
  {
   "cell_type": "code",
   "execution_count": 46,
   "metadata": {},
   "outputs": [
    {
     "data": {
      "image/png": "[encoded data removed]",
      "text/plain": [
       "<Figure size 640x480 with 1 Axes>"
      ]
     },
     "metadata": {},
     "output_type": "display_data"
    }
   ],
   "source": [
    "trabajos_mayor_salario.plot(kind='bar')\n",
    "plt.title(\"Trabajo mejor pagado\")\n",
    "plt.xticks(rotation=45)\n",
    "plt.show()"
   ]
  },
  {
   "cell_type": "code",
   "execution_count": 47,
   "metadata": {},
   "outputs": [
    {
     "data": {
      "text/plain": [
       "Gender\n",
       "female    220000.0\n",
       "male      250000.0\n",
       "other     166109.0\n",
       "Name: Salary, dtype: float64"
      ]
     },
     "execution_count": 47,
     "metadata": {},
     "output_type": "execute_result"
    }
   ],
   "source": [
    "c = data.groupby('Gender')['Salary'].max()\n",
    "c.head()"
   ]
  },
  {
   "cell_type": "code",
   "execution_count": 48,
   "metadata": {},
   "outputs": [
    {
     "data": {
      "image/png": "[encoded data removed]",
      "text/plain": [
       "<Figure size 640x480 with 1 Axes>"
      ]
     },
     "metadata": {},
     "output_type": "display_data"
    }
   ],
   "source": [
    "\n",
    "c.plot(kind='bar')\n",
    "plt.title(\"Salario máximo según el género\")\n",
    "plt.show()"
   ]
  },
  {
   "cell_type": "code",
   "execution_count": 49,
   "metadata": {},
   "outputs": [
    {
     "data": {
      "text/plain": [
       "Gender\n",
       "male      935\n",
       "female    789\n",
       "other       7\n",
       "Name: count, dtype: int64"
      ]
     },
     "execution_count": 49,
     "metadata": {},
     "output_type": "execute_result"
    }
   ],
   "source": [
    "data['Gender'].value_counts()\n"
   ]
  },
  {
   "cell_type": "code",
   "execution_count": null,
   "metadata": {},
   "outputs": [],
   "source": []
  },
  {
   "cell_type": "code",
   "execution_count": 50,
   "metadata": {},
   "outputs": [],
   "source": [
    "xd = data['Gender'] == \"other\"\n",
    "asd = data.groupby('Salary')['Gender']\n"
   ]
  },
  {
   "cell_type": "markdown",
   "metadata": {},
   "source": [
    "### Regresión lineal>"
   ]
  },
  {
   "cell_type": "code",
   "execution_count": 51,
   "metadata": {},
   "outputs": [
    {
     "name": "stdout",
     "output_type": "stream",
     "text": [
      "Coeficientes: [  2161.61634881   5694.79332999  -7856.40967878  -3337.71027015\n",
      " -15662.18206011   7385.13275865  11614.75957161 -14658.37714456\n",
      "  -3400.11662675  16706.20459705 -14092.96666602 -12535.36636821\n",
      "   4290.54127246  -9898.81168204 -17814.08959448  -5803.24444177\n",
      "   7386.17615876  20134.42466442  26080.49146567   -433.04946571\n",
      " -12192.22436527  16190.89846834  72506.12830524 -15393.48549308\n",
      " -12948.11153089 -25197.86603167 -16712.75766256  -2892.66716589\n",
      "  41289.26421673 -12747.63950858 -12371.21199124 -15492.14340996\n",
      "    610.90897481   4121.02499518]\n",
      "Intercepto: 33428.278765973126\n"
     ]
    }
   ],
   "source": [
    "import pandas as pd\n",
    "from sklearn.linear_model import LinearRegression\n",
    "from sklearn.preprocessing import OneHotEncoder\n",
    "from sklearn.compose import ColumnTransformer\n",
    "from sklearn.metrics import mean_absolute_error, mean_squared_error, r2_score\n",
    "\n",
    "data_copy = data\n",
    "\n",
    "# Convertir variables categóricas usando codificación one-hot\n",
    "categorical_cols = ['Gender', 'Education_Level', 'Job_Title']\n",
    "#       'cat': Es un nombre asignado a esta transformación. En este caso, podría representar que se está aplicando una codificación one-hot a variables categóricas.\n",
    "#       OneHotEncoder(): Es un objeto de la clase OneHotEncoder, que se utiliza para realizar la codificación one-hot en las columnas especificadas.\n",
    "#       categorical_cols: Es una variable que debe contener las columnas del conjunto de datos que se desean codificar utilizando la técnica one-hot.\n",
    "preprocessor = ColumnTransformer(transformers=[('cat', OneHotEncoder(), categorical_cols)], remainder='passthrough')\n",
    "\n",
    "#       Se elimina Salary del dataframe y quedan solamente las variables independientes\n",
    "X = preprocessor.fit_transform(data_copy.drop(columns=['Salary']))\n",
    "#       Es la variable dependiente\n",
    "y = data_copy['Salary']\n",
    "\n",
    "#       Ajustar el modelo de regresión lineal\n",
    "regression_model = LinearRegression()\n",
    "#       Rellena el modelo con los datos de la variables independientes y la dependiente para entrenarlos\n",
    "regression_model.fit(X, y)\n",
    "\n",
    "#       \n",
    "y_pred = regression_model.predict(X)\n",
    "\n",
    "# Imprimir los coeficientes y el intercepto del modelo\n",
    "print(\"Coeficientes:\", regression_model.coef_)\n",
    "print(\"Intercepto:\", regression_model.intercept_)\n"
   ]
  },
  {
   "cell_type": "code",
   "execution_count": 52,
   "metadata": {},
   "outputs": [
    {
     "name": "stdout",
     "output_type": "stream",
     "text": [
      "Predicción del salario: 99158.0155548804\n",
      "0.7770182587522418\n"
     ]
    }
   ],
   "source": [
    "# Datos del individuo para predecir\n",
    "nueva_data = {\n",
    "    'Age': [30],\n",
    "    'Gender': ['male'],\n",
    "    'Education_Level': [\"master's\"],\n",
    "    'Job_Title': ['Engineer'],\n",
    "    'Years_of_Experience': [2]\n",
    "}\n",
    "\n",
    "# Convertir los datos en un DataFrame\n",
    "nueva_df = pd.DataFrame(nueva_data)\n",
    "\n",
    "# Aplicar la misma transformación de codificación one-hot utilizada durante el entrenamiento\n",
    "nueva_X = preprocessor.transform(nueva_df)\n",
    "\n",
    "# Realizar la predicción\n",
    "prediccion_salario = regression_model.predict(nueva_X)\n",
    "\n",
    "# Imprimir la predicción del salario\n",
    "print(\"Predicción del salario:\", prediccion_salario[0])\n",
    "r2 = r2_score(y, y_pred)\n",
    "print(r2)"
   ]
  },
  {
   "cell_type": "markdown",
   "metadata": {},
   "source": [
    "### Correlacion entre variables"
   ]
  },
  {
   "cell_type": "code",
   "execution_count": 80,
   "metadata": {},
   "outputs": [
    {
     "name": "stdout",
     "output_type": "stream",
     "text": [
      "0.7637688284080536\n",
      "0.8155041170122503\n"
     ]
    }
   ],
   "source": [
    "correlation = data['Age'].corr(data['Salary'])\n",
    "\n",
    "columnas_independientes = ['Age', 'Years_of_Experience']\n",
    "\n",
    "\n",
    "for col in columnas_independientes:\n",
    "    correlation = data[col].corr(data['Salary'])\n",
    "    print(correlation)"
   ]
  },
  {
   "cell_type": "markdown",
   "metadata": {},
   "source": [
    "### Regresión lineal 2"
   ]
  },
  {
   "cell_type": "code",
   "execution_count": 75,
   "metadata": {},
   "outputs": [
    {
     "name": "stdout",
     "output_type": "stream",
     "text": [
      "R-squared score on test set: 0.75\n"
     ]
    }
   ],
   "source": [
    "import pandas as pd\n",
    "from sklearn.linear_model import LinearRegression\n",
    "from sklearn.preprocessing import StandardScaler, OneHotEncoder\n",
    "from sklearn.compose import ColumnTransformer\n",
    "from sklearn.model_selection import train_test_split\n",
    "\n",
    "#  Separar las características (X) y la variable objetivo (y)\n",
    "X = data_copy.drop(\"Salary\", axis=1)\n",
    "y = data_copy[\"Salary\"]\n",
    "\n",
    "# Definir las columnas numéricas y categóricas\n",
    "numeric_features = [\"Age\", \"Years_of_Experience\"]\n",
    "categorical_features = [\"Gender\", \"Education_Level\", \"Job_Title\"]\n",
    "\n",
    "# Crear un preprocesador para estandarizar las columnas numéricas y codificar las categóricas\n",
    "preprocessor = ColumnTransformer(\n",
    "    transformers=[\n",
    "        ('num', StandardScaler(), numeric_features),\n",
    "        ('cat', OneHotEncoder(), categorical_features)\n",
    "    ])\n",
    "\n",
    "# Dividir los datos en conjuntos de entrenamiento y prueba\n",
    "X_train, X_test, y_train, y_test = train_test_split(X, y, test_size=0.2, random_state=42)\n",
    "\n",
    "# Aplicar el preprocesador en el conjunto de entrenamiento y transformar el conjunto de prueba\n",
    "X_train_preprocessed = preprocessor.fit_transform(X_train)\n",
    "X_test_preprocessed = preprocessor.transform(X_test)\n",
    "\n",
    "# Crear y entrenar el modelo de regresión lineal\n",
    "model = LinearRegression()\n",
    "model.fit(X_train_preprocessed, y_train)\n",
    "\n",
    "# Evaluar el modelo en el conjunto de prueba\n",
    "score = model.score(X_test_preprocessed, y_test)\n",
    "print(f\"R-squared score on test set: {score:.2f}\")"
   ]
  },
  {
   "cell_type": "code",
   "execution_count": 62,
   "metadata": {},
   "outputs": [
    {
     "data": {
      "text/plain": [
       "Index(['Age', 'Gender', 'Education_Level', 'Years_of_Experience', 'Salary',\n",
       "       'Job_Title'],\n",
       "      dtype='object')"
      ]
     },
     "execution_count": 62,
     "metadata": {},
     "output_type": "execute_result"
    }
   ],
   "source": [
    "data_copy.columns"
   ]
  },
  {
   "cell_type": "code",
   "execution_count": 67,
   "metadata": {},
   "outputs": [
    {
     "data": {
      "text/plain": [
       "array([\"bachelor's\", \"master's\", 'phd', 'high school'], dtype=object)"
      ]
     },
     "execution_count": 67,
     "metadata": {},
     "output_type": "execute_result"
    }
   ],
   "source": [
    "data_copy['Education_Level'].unique()"
   ]
  },
  {
   "cell_type": "code",
   "execution_count": 68,
   "metadata": {},
   "outputs": [
    {
     "data": {
      "text/plain": [
       "array(['Engineer', 'Analyst', 'Manager', 'Associate', 'Director',\n",
       "       'Coordinator', 'Scientist', 'Developer', 'Rep', 'Clerk',\n",
       "       'Executive', 'Support', 'Recruiter', 'Specialist', 'Consultant',\n",
       "       'Designer', 'Accountant', 'Writer', 'Generalist', 'Other',\n",
       "       'Copywriter', 'Researcher', 'Officer', 'Advisor', 'Producer'],\n",
       "      dtype=object)"
      ]
     },
     "execution_count": 68,
     "metadata": {},
     "output_type": "execute_result"
    }
   ],
   "source": [
    "data_copy['Job_Title'].unique()"
   ]
  },
  {
   "cell_type": "code",
   "execution_count": 73,
   "metadata": {},
   "outputs": [],
   "source": [
    "new_data = pd.DataFrame({\n",
    "    'Age': [30, 35, 25],\n",
    "    'Gender': ['male', 'female', 'male'],\n",
    "    'Education_Level': [\"bachelor's\", \"master's\", \"bachelor's\"],\n",
    "    'Job_Title': ['Engineer', 'Manager', 'Engineer'],\n",
    "    'Years_of_Experience': [5, 10, 3]\n",
    "})"
   ]
  },
  {
   "cell_type": "code",
   "execution_count": 76,
   "metadata": {},
   "outputs": [
    {
     "name": "stdout",
     "output_type": "stream",
     "text": [
      "R-squared score on test set: 0.75\n",
      "[ 99601.68751794 121908.05368293  88061.04351094]\n"
     ]
    }
   ],
   "source": [
    "# Preprocesar los nuevos datos de entrada\n",
    "new_data_preprocessed = preprocessor.transform(new_data)\n",
    "\n",
    "# Hacer predicciones con el modelo\n",
    "predictions = model.predict(new_data_preprocessed)\n",
    "\n",
    "# Evaluar el modelo en el conjunto de prueba\n",
    "score2 = model.score(X_test_preprocessed, y_test)\n",
    "print(f\"R-squared score on test set: {score2:.2f}\")\n",
    "\n",
    "# Las predicciones estarán en el array 'predictions'\n",
    "print(predictions)"
   ]
  }
 ],
 "metadata": {
  "kernelspec": {
   "display_name": "Python 3",
   "language": "python",
   "name": "python3"
  },
  "language_info": {
   "codemirror_mode": {
    "name": "ipython",
    "version": 3
   },
   "file_extension": ".py",
   "mimetype": "text/x-python",
   "name": "python",
   "nbconvert_exporter": "python",
   "pygments_lexer": "ipython3",
   "version": "3.11.4"
  },
  "orig_nbformat": 4
 },
 "nbformat": 4,
 "nbformat_minor": 2
}
